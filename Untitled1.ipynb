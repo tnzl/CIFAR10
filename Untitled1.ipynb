{
 "cells": [
  {
   "cell_type": "code",
   "execution_count": 3,
   "metadata": {},
   "outputs": [],
   "source": [
    "import numpy as np\n",
    "import tensorflow as tf\n",
    "tf.random.set_seed(1234)\n",
    "import matplotlib.pyplot as plt\n",
    "import cv2"
   ]
  },
  {
   "cell_type": "code",
   "execution_count": 4,
   "metadata": {},
   "outputs": [],
   "source": [
    "from sklearn.preprocessing import OneHotEncoder"
   ]
  },
  {
   "cell_type": "code",
   "execution_count": null,
   "metadata": {},
   "outputs": [],
   "source": []
  },
  {
   "cell_type": "code",
   "execution_count": null,
   "metadata": {},
   "outputs": [],
   "source": []
  },
  {
   "cell_type": "code",
   "execution_count": 5,
   "metadata": {},
   "outputs": [],
   "source": [
    "# Assemble dataset\n",
    "def get_matrices():\n",
    "    data = []\n",
    "    labels = []\n",
    "    \n",
    "    for i in list(range(1, 6)):\n",
    "        xx, yy = load_batch(i)\n",
    "        xx, yy = preprocess(xx, yy)\n",
    "        data.append(xx)\n",
    "        labels.append(yy)\n",
    "    \n",
    "    x_tr = np.concatenate(data)\n",
    "    y_tr = np.concatenate(labels)\n",
    "\n",
    "    x_te, y_te = load_batch(999, test=True)\n",
    "    x_te, y_te = preprocess(x_te, y_te)\n",
    "\n",
    "    print('x_tr shape: '+ str(x_tr.shape))\n",
    "    print('y_tr shape: '+ str(y_tr.shape))\n",
    "    print('\\nx_tr dtype: '+ str(x_tr.dtype))\n",
    "    print('y_tr dtype: '+ str(y_tr.dtype))\n",
    "    print('\\nx_te shape: '+ str(x_te.shape))\n",
    "    print('y_te shape: '+ str(y_te.shape))\n",
    "    print('\\nx_te dtype: '+ str(x_te.dtype))\n",
    "    print('y_te dtype: '+ str(y_te.dtype))  \n",
    "    \n",
    "    return x_tr, y_tr, x_te, y_te\n",
    "    \n",
    "# Load dataset from memory\n",
    "def load_batch(i, test = False):\n",
    "    def unpickle(file):\n",
    "        import pickle\n",
    "        with open(file, 'rb') as fo:\n",
    "            dict = pickle.load(fo, encoding='bytes')\n",
    "        return dict\n",
    "    \n",
    "    d = {}\n",
    "    if test:\n",
    "        d = unpickle('./cifar-10-batches-py/test_batch')\n",
    "    else:\n",
    "        d = unpickle('./cifar-10-batches-py/data_batch_'+str(i))\n",
    "    \n",
    "    return d[b'data'], d[b'labels']"
   ]
  },
  {
   "cell_type": "code",
   "execution_count": null,
   "metadata": {},
   "outputs": [],
   "source": []
  },
  {
   "cell_type": "code",
   "execution_count": 6,
   "metadata": {},
   "outputs": [],
   "source": [
    "# Pre-process functions here \n",
    "\n",
    "# Assemble pre-processes\n",
    "def preprocess(x, y):\n",
    "    \n",
    "    # ohe\n",
    "    y = OneHotEncoder().fit_transform(np.array(y).reshape(-1,1)).toarray()\n",
    "    \n",
    "    # reshape x\n",
    "    x = x.reshape((x.shape[0], 3, 32, 32)).transpose(0, 2, 3, 1)\n",
    "    \n",
    "    # as float16\n",
    "    x = x.astype('float64')\n",
    "    y = y.astype('float16')\n",
    "    \n",
    "    # normalize\n",
    "    min_val = np.min(x)\n",
    "    max_val = np.max(x)\n",
    "    x = (x-min_val) / (max_val-min_val)\n",
    "    \n",
    "    return x, y"
   ]
  },
  {
   "cell_type": "code",
   "execution_count": null,
   "metadata": {},
   "outputs": [],
   "source": []
  },
  {
   "cell_type": "code",
   "execution_count": 7,
   "metadata": {},
   "outputs": [],
   "source": [
    "# Common functions\n",
    "\n",
    "def plot_history(hist):\n",
    "    fig=plt.figure()\n",
    "    ax=fig.add_subplot(121)\n",
    "    bx=fig.add_subplot(122)\n",
    "    ax.plot(hist.history['loss'],label='loss')\n",
    "    ax.plot(hist.history['val_loss'],label='val_loss')\n",
    "    ax.set_title('loss')\n",
    "    ax.legend()\n",
    "    bx.plot(hist.history['accuracy'],label='accuracy')\n",
    "    bx.plot(hist.history['val_accuracy'],label='val_accuracy')\n",
    "    bx.set_title('accuracy')\n",
    "    bx.legend()"
   ]
  },
  {
   "cell_type": "code",
   "execution_count": null,
   "metadata": {},
   "outputs": [],
   "source": []
  },
  {
   "cell_type": "code",
   "execution_count": 8,
   "metadata": {},
   "outputs": [
    {
     "name": "stdout",
     "output_type": "stream",
     "text": [
      "x_tr shape: (50000, 32, 32, 3)\n",
      "y_tr shape: (50000, 10)\n",
      "\n",
      "x_tr dtype: float64\n",
      "y_tr dtype: float16\n",
      "\n",
      "x_te shape: (10000, 32, 32, 3)\n",
      "y_te shape: (10000, 10)\n",
      "\n",
      "x_te dtype: float64\n",
      "y_te dtype: float16\n"
     ]
    }
   ],
   "source": [
    "x_tr, y_tr, x_te, y_te = get_matrices()"
   ]
  },
  {
   "cell_type": "code",
   "execution_count": 9,
   "metadata": {},
   "outputs": [
    {
     "data": {
      "text/plain": [
       "Text(0.5, 1.0, '7')"
      ]
     },
     "execution_count": 9,
     "metadata": {},
     "output_type": "execute_result"
    },
    {
     "data": {
      "image/png": "[encoded data removed]",
      "text/plain": [
       "<Figure size 432x288 with 1 Axes>"
      ]
     },
     "metadata": {
      "needs_background": "light"
     },
     "output_type": "display_data"
    }
   ],
   "source": [
    "ind = np.random.randint(0,50000)\n",
    "plt.imshow((255*x_tr[ind]).astype('int'))\n",
    "plt .title(y_tr[ind].argmax())"
   ]
  },
  {
   "cell_type": "code",
   "execution_count": null,
   "metadata": {
    "slideshow": {
     "slide_type": "fragment"
    }
   },
   "outputs": [],
   "source": []
  },
  {
   "cell_type": "markdown",
   "metadata": {},
   "source": [
    "### Attempt 1"
   ]
  },
  {
   "cell_type": "code",
   "execution_count": 86,
   "metadata": {},
   "outputs": [],
   "source": [
    "model = tf.keras.Sequential([\n",
    "    tf.keras.layers.Conv2D(16,(3,3)),\n",
    "    tf.keras.layers.Conv2D(16, (1,1)),\n",
    "    tf.keras.layers.Flatten(),\n",
    "    tf.keras.layers.Dense(128, activation= tf.keras.activations.relu),\n",
    "    tf.keras.layers.Dense(10, activation= tf.keras.activations.softmax)\n",
    "])"
   ]
  },
  {
   "cell_type": "code",
   "execution_count": 87,
   "metadata": {},
   "outputs": [],
   "source": [
    "model.compile(optimizer=tf.keras.optimizers.RMSprop(0.01),\n",
    "              loss=tf.keras.losses.CategoricalCrossentropy(),\n",
    "              metrics=['accuracy'])"
   ]
  },
  {
   "cell_type": "code",
   "execution_count": 88,
   "metadata": {},
   "outputs": [
    {
     "name": "stdout",
     "output_type": "stream",
     "text": [
      "Train on 40000 samples, validate on 10000 samples\n",
      "Epoch 1/3\n",
      "40000/40000 [==============================] - 22s 545us/sample - loss: 4.0366 - accuracy: 0.0969 - val_loss: 2.3041 - val_accuracy: 0.0997\n",
      "Epoch 2/3\n",
      "40000/40000 [==============================] - 25s 613us/sample - loss: 2.3039 - accuracy: 0.0994 - val_loss: 2.3034 - val_accuracy: 0.1025\n",
      "Epoch 3/3\n",
      "40000/40000 [==============================] - 26s 655us/sample - loss: 2.3039 - accuracy: 0.0990 - val_loss: 2.3035 - val_accuracy: 0.0977\n"
     ]
    },
    {
     "data": {
      "text/plain": [
       "<tensorflow.python.keras.callbacks.History at 0x7f80b01c6080>"
      ]
     },
     "execution_count": 88,
     "metadata": {},
     "output_type": "execute_result"
    }
   ],
   "source": [
    "model.fit(x, y, epochs=3, validation_split=0.2)"
   ]
  },
  {
   "cell_type": "code",
   "execution_count": null,
   "metadata": {},
   "outputs": [],
   "source": []
  },
  {
   "cell_type": "markdown",
   "metadata": {},
   "source": [
    "### Attempt 2"
   ]
  },
  {
   "cell_type": "code",
   "execution_count": 10,
   "metadata": {},
   "outputs": [],
   "source": [
    "class BasicModel(tf.keras.Model):\n",
    "\n",
    "    def __init__(self):\n",
    "        super(BasicModel, self).__init__()\n",
    "        \n",
    "        # Block 1\n",
    "        self.c11  = tf.keras.layers.Conv2D(35, (3,3))\n",
    "        self.c12  = tf.keras.layers.Conv2D(40, (3,3))\n",
    "        self.m11 = tf.keras.layers.MaxPool2D()\n",
    "        self.c13  = tf.keras.layers.Conv2D(40, (1,1))\n",
    "        \n",
    "        # Block 2\n",
    "        self.c21 = tf.keras.layers.Conv2D(40, (3,3))\n",
    "        self.c22 = tf.keras.layers.Conv2D(40, (3,3))\n",
    "        self.m21 = tf.keras.layers.MaxPool2D()\n",
    "        self.c23  = tf.keras.layers.Conv2D(50, (1,1))\n",
    "        \n",
    "        # Dense Block\n",
    "        self.f31 = tf.keras.layers.Flatten()\n",
    "        self.d31 = tf.keras.layers.Dense(146, activation= tf.keras.activations.relu)\n",
    "        self.d32 = tf.keras.layers.Dense(81, activation= tf.keras.activations.relu)\n",
    "        self.d33 = tf.keras.layers.Dense(10, activation= tf.keras.activations.softmax)\n",
    "\n",
    "    def call(self, inputs):\n",
    "        \n",
    "        # Block 1\n",
    "        x1 = self.c11(inputs)\n",
    "        x1 = self.c12(x1)\n",
    "        x1 = self.m11(x1)\n",
    "        x1 = self.c13(x1)\n",
    "        \n",
    "        # Block 2\n",
    "        x2 = tf.keras.layers.ZeroPadding2D(padding=1)(x1)\n",
    "        x2 = self.c21(x2)\n",
    "        x2 = tf.keras.layers.ZeroPadding2D(padding=1)(x2)\n",
    "        x2 = self.c22(x2)     \n",
    "        x2 = self.m21(x2)\n",
    "        x2 = self.c23(x2)\n",
    "        \n",
    "        # Dense Block \n",
    "        x3 = self.f31(x2)\n",
    "        x3 = self.d31(x3)\n",
    "        x3 = self.d32(x3)\n",
    "        x3 = self.d33(x3)\n",
    "        \n",
    "        return x3"
   ]
  },
  {
   "cell_type": "code",
   "execution_count": 15,
   "metadata": {},
   "outputs": [],
   "source": [
    "model = BasicModel()\n",
    "\n",
    "optimizer=tf.keras.optimizers.Adam(learning_rate=3e-3)\n",
    "loss=tf.keras.losses.CategoricalCrossentropy()\n",
    "\n",
    "model.compile(optimizer,loss,metrics=['accuracy'])"
   ]
  },
  {
   "cell_type": "code",
   "execution_count": 16,
   "metadata": {},
   "outputs": [
    {
     "name": "stdout",
     "output_type": "stream",
     "text": [
      "Model: \"basic_model_1\"\n",
      "_________________________________________________________________\n",
      "Layer (type)                 Output Shape              Param #   \n",
      "=================================================================\n",
      "conv2d_6 (Conv2D)            multiple                  980       \n",
      "_________________________________________________________________\n",
      "conv2d_7 (Conv2D)            multiple                  12640     \n",
      "_________________________________________________________________\n",
      "max_pooling2d_2 (MaxPooling2 multiple                  0         \n",
      "_________________________________________________________________\n",
      "conv2d_8 (Conv2D)            multiple                  1640      \n",
      "_________________________________________________________________\n",
      "conv2d_9 (Conv2D)            multiple                  14440     \n",
      "_________________________________________________________________\n",
      "conv2d_10 (Conv2D)           multiple                  14440     \n",
      "_________________________________________________________________\n",
      "max_pooling2d_3 (MaxPooling2 multiple                  0         \n",
      "_________________________________________________________________\n",
      "conv2d_11 (Conv2D)           multiple                  2050      \n",
      "_________________________________________________________________\n",
      "flatten_1 (Flatten)          multiple                  0         \n",
      "_________________________________________________________________\n",
      "dense_3 (Dense)              multiple                  357846    \n",
      "_________________________________________________________________\n",
      "dense_4 (Dense)              multiple                  11907     \n",
      "_________________________________________________________________\n",
      "dense_5 (Dense)              multiple                  820       \n",
      "=================================================================\n",
      "Total params: 416,763\n",
      "Trainable params: 416,763\n",
      "Non-trainable params: 0\n",
      "_________________________________________________________________\n"
     ]
    }
   ],
   "source": [
    "model.build((None, 32, 32, 3))\n",
    "model.summary()"
   ]
  },
  {
   "cell_type": "code",
   "execution_count": 17,
   "metadata": {},
   "outputs": [
    {
     "name": "stdout",
     "output_type": "stream",
     "text": [
      "Train on 50000 samples, validate on 10000 samples\n",
      "Epoch 1/20\n",
      "50000/50000 [==============================] - 50s 1ms/sample - loss: 1.4980 - accuracy: 0.4667 - val_loss: 1.2730 - val_accuracy: 0.5530\n",
      "Epoch 2/20\n",
      "50000/50000 [==============================] - 52s 1ms/sample - loss: 1.1670 - accuracy: 0.5989 - val_loss: 1.1040 - val_accuracy: 0.6276\n",
      "Epoch 3/20\n",
      "50000/50000 [==============================] - 55s 1ms/sample - loss: 1.0693 - accuracy: 0.6321 - val_loss: 1.1229 - val_accuracy: 0.6140\n",
      "Epoch 4/20\n",
      "50000/50000 [==============================] - 59s 1ms/sample - loss: 1.0048 - accuracy: 0.6587 - val_loss: 1.0964 - val_accuracy: 0.6412\n",
      "Epoch 5/20\n",
      "50000/50000 [==============================] - 62s 1ms/sample - loss: 0.9560 - accuracy: 0.6776 - val_loss: 1.1294 - val_accuracy: 0.6309\n",
      "Epoch 6/20\n",
      "50000/50000 [==============================] - 63s 1ms/sample - loss: 0.9254 - accuracy: 0.6899 - val_loss: 1.1056 - val_accuracy: 0.6339\n",
      "Epoch 7/20\n",
      "50000/50000 [==============================] - 61s 1ms/sample - loss: 0.8927 - accuracy: 0.7014 - val_loss: 1.0844 - val_accuracy: 0.6459\n",
      "Epoch 8/20\n",
      "50000/50000 [==============================] - 61s 1ms/sample - loss: 0.8349 - accuracy: 0.7231 - val_loss: 1.1361 - val_accuracy: 0.6600\n",
      "Epoch 9/20\n",
      "50000/50000 [==============================] - 61s 1ms/sample - loss: 0.7960 - accuracy: 0.7360 - val_loss: 1.2340 - val_accuracy: 0.6207\n",
      "Epoch 10/20\n",
      "50000/50000 [==============================] - 63s 1ms/sample - loss: 0.8009 - accuracy: 0.7379 - val_loss: 1.1920 - val_accuracy: 0.6251\n",
      "Epoch 11/20\n",
      "50000/50000 [==============================] - 63s 1ms/sample - loss: 0.7728 - accuracy: 0.7477 - val_loss: 1.1281 - val_accuracy: 0.6548\n",
      "Epoch 12/20\n",
      "50000/50000 [==============================] - 65s 1ms/sample - loss: 0.7473 - accuracy: 0.7557 - val_loss: 1.2155 - val_accuracy: 0.6562\n",
      "Epoch 13/20\n",
      "50000/50000 [==============================] - 63s 1ms/sample - loss: 0.7576 - accuracy: 0.7574 - val_loss: 1.1774 - val_accuracy: 0.6515\n",
      "Epoch 14/20\n",
      "50000/50000 [==============================] - 65s 1ms/sample - loss: 0.6908 - accuracy: 0.7782 - val_loss: 1.3539 - val_accuracy: 0.6133\n",
      "Epoch 15/20\n",
      "50000/50000 [==============================] - 65s 1ms/sample - loss: 0.7017 - accuracy: 0.7765 - val_loss: 1.3835 - val_accuracy: 0.6311\n",
      "Epoch 16/20\n",
      "50000/50000 [==============================] - 69s 1ms/sample - loss: 0.7182 - accuracy: 0.7741 - val_loss: 1.2279 - val_accuracy: 0.6579\n",
      "Epoch 17/20\n",
      "50000/50000 [==============================] - 64s 1ms/sample - loss: 0.6657 - accuracy: 0.7905 - val_loss: 1.2788 - val_accuracy: 0.6564\n",
      "Epoch 18/20\n",
      "50000/50000 [==============================] - 59s 1ms/sample - loss: 0.6456 - accuracy: 0.7965 - val_loss: 1.3029 - val_accuracy: 0.6146\n",
      "Epoch 19/20\n",
      "50000/50000 [==============================] - 58s 1ms/sample - loss: 0.6832 - accuracy: 0.7917 - val_loss: 1.4644 - val_accuracy: 0.6250\n",
      "Epoch 20/20\n",
      "50000/50000 [==============================] - 58s 1ms/sample - loss: 0.6319 - accuracy: 0.8061 - val_loss: 1.2692 - val_accuracy: 0.6429\n"
     ]
    }
   ],
   "source": [
    "hist = model.fit(x_tr, y_tr, epochs= 20, validation_data= (x_te, y_te))"
   ]
  },
  {
   "cell_type": "code",
   "execution_count": 18,
   "metadata": {},
   "outputs": [
    {
     "data": {
      "image/png": "[encoded data removed]",
      "text/plain": [
       "<Figure size 432x288 with 2 Axes>"
      ]
     },
     "metadata": {
      "needs_background": "light"
     },
     "output_type": "display_data"
    }
   ],
   "source": [
    "plot_history(hist)"
   ]
  },
  {
   "cell_type": "markdown",
   "metadata": {},
   "source": [
    "### Attempt 3"
   ]
  },
  {
   "cell_type": "code",
   "execution_count": null,
   "metadata": {},
   "outputs": [],
   "source": []
  }
 ],
 "metadata": {
  "kernelspec": {
   "display_name": "venv",
   "language": "python",
   "name": "venv"
  },
  "language_info": {
   "codemirror_mode": {
    "name": "ipython",
    "version": 3
   },
   "file_extension": ".py",
   "mimetype": "text/x-python",
   "name": "python",
   "nbconvert_exporter": "python",
   "pygments_lexer": "ipython3",
   "version": "3.6.9"
  }
 },
 "nbformat": 4,
 "nbformat_minor": 4
}
