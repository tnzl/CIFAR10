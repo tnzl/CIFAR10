{
 "cells": [
  {
   "cell_type": "code",
   "execution_count": 1,
   "metadata": {},
   "outputs": [],
   "source": [
    "import numpy as np\n",
    "import tensorflow as tf\n",
    "tf.random.set_seed(1234)\n",
    "import matplotlib.pyplot as plt\n",
    "import cv2"
   ]
  },
  {
   "cell_type": "code",
   "execution_count": null,
   "metadata": {},
   "outputs": [],
   "source": []
  },
  {
   "cell_type": "code",
   "execution_count": 2,
   "metadata": {},
   "outputs": [],
   "source": [
    "from sklearn.preprocessing import OneHotEncoder\n",
    "from tensorflow.keras.callbacks import Callback, LearningRateScheduler, TensorBoard, ModelCheckpoint"
   ]
  },
  {
   "cell_type": "code",
   "execution_count": 3,
   "metadata": {},
   "outputs": [],
   "source": [
    "IMG_SIZE = 32"
   ]
  },
  {
   "cell_type": "code",
   "execution_count": 4,
   "metadata": {},
   "outputs": [
    {
     "data": {
      "text/plain": [
       "'2.4.0-dev20200701'"
      ]
     },
     "execution_count": 4,
     "metadata": {},
     "output_type": "execute_result"
    }
   ],
   "source": [
    "tf.__version__"
   ]
  },
  {
   "cell_type": "code",
   "execution_count": 5,
   "metadata": {},
   "outputs": [
    {
     "name": "stdout",
     "output_type": "stream",
     "text": [
      "Num GPUs Available:  0\n"
     ]
    }
   ],
   "source": [
    "print(\"Num GPUs Available: \", len(tf.config.experimental.list_physical_devices('GPU')))"
   ]
  },
  {
   "cell_type": "code",
   "execution_count": 6,
   "metadata": {},
   "outputs": [],
   "source": [
    "# Assemble dataset\n",
    "def get_matrices():\n",
    "    \n",
    "    (x_tr, y_tr), (x_te, y_te) = load_batch(999, test=True)\n",
    "    x_te, y_te = preprocess(x_te, y_te)\n",
    "    x_tr, y_tr = preprocess(x_tr, y_tr)\n",
    "    \n",
    "    print('x_tr shape: '+ str(x_tr.shape))\n",
    "    print('y_tr shape: '+ str(y_tr.shape))\n",
    "    print('\\nx_tr dtype: '+ str(x_tr.dtype))\n",
    "    print('y_tr dtype: '+ str(y_tr.dtype))\n",
    "    print('\\nx_te shape: '+ str(x_te.shape))\n",
    "    print('y_te shape: '+ str(y_te.shape))\n",
    "    print('\\nx_te dtype: '+ str(x_te.dtype))\n",
    "    print('y_te dtype: '+ str(y_te.dtype))  \n",
    "    \n",
    "    return x_tr, y_tr, x_te, y_te\n",
    "    \n",
    "# Load dataset from memory\n",
    "def load_batch(i, test = False):\n",
    "    return tf.keras.datasets.cifar100.load_data()"
   ]
  },
  {
   "cell_type": "code",
   "execution_count": null,
   "metadata": {},
   "outputs": [],
   "source": []
  },
  {
   "cell_type": "code",
   "execution_count": 7,
   "metadata": {},
   "outputs": [],
   "source": [
    "# Pre-process functions here \n",
    "\n",
    "# Assemble pre-processes\n",
    "def preprocess(x, y):\n",
    "    \n",
    "    # ohe\n",
    "    y = OneHotEncoder().fit_transform(np.array(y).reshape(-1,1)).toarray()\n",
    "        \n",
    "    # as float16\n",
    "    x = x.astype('float64')\n",
    "    y = y.astype('float64')\n",
    "    \n",
    "    # normalize\n",
    "    min_val = np.min(x)\n",
    "    max_val = np.max(x)\n",
    "    x = (x-min_val) / (max_val-min_val)\n",
    "    \n",
    "    return x, y"
   ]
  },
  {
   "cell_type": "code",
   "execution_count": null,
   "metadata": {},
   "outputs": [],
   "source": []
  },
  {
   "cell_type": "code",
   "execution_count": 8,
   "metadata": {
    "jupyter": {
     "source_hidden": true
    }
   },
   "outputs": [],
   "source": [
    "# Common functions\n",
    "def moving_average(a, n=3) :\n",
    "    ret = np.cumsum(a, dtype=float)\n",
    "    ret[n:] = ret[n:] - ret[:-n]\n",
    "    return ret[n - 1:] / n\n",
    "\n",
    "def plot_history(hist):\n",
    "    fig=plt.figure()\n",
    "    ax=fig.add_subplot(121)\n",
    "    bx=fig.add_subplot(122)\n",
    "    ax.plot(hist.history['loss'],label='loss')\n",
    "    ax.plot(hist.history['val_loss'],label='val_loss')\n",
    "    ax.set_title('loss')\n",
    "    ax.legend()\n",
    "    bx.plot(hist.history['accuracy'],label='accuracy')\n",
    "    bx.plot(hist.history['val_accuracy'],label='val_accuracy')\n",
    "    bx.set_title('accuracy')\n",
    "    bx.legend()"
   ]
  },
  {
   "cell_type": "code",
   "execution_count": null,
   "metadata": {},
   "outputs": [],
   "source": []
  },
  {
   "cell_type": "code",
   "execution_count": 9,
   "metadata": {},
   "outputs": [
    {
     "name": "stdout",
     "output_type": "stream",
     "text": [
      "x_tr shape: (50000, 32, 32, 3)\n",
      "y_tr shape: (50000, 100)\n",
      "\n",
      "x_tr dtype: float64\n",
      "y_tr dtype: float64\n",
      "\n",
      "x_te shape: (10000, 32, 32, 3)\n",
      "y_te shape: (10000, 100)\n",
      "\n",
      "x_te dtype: float64\n",
      "y_te dtype: float64\n"
     ]
    }
   ],
   "source": [
    "x_tr, y_tr, x_te, y_te = get_matrices()"
   ]
  },
  {
   "cell_type": "code",
   "execution_count": 10,
   "metadata": {},
   "outputs": [
    {
     "data": {
      "text/plain": [
       "Text(0.5, 1.0, '88')"
      ]
     },
     "execution_count": 10,
     "metadata": {},
     "output_type": "execute_result"
    },
    {
     "data": {
      "image/png": "[encoded data removed]",
      "text/plain": [
       "<Figure size 432x288 with 1 Axes>"
      ]
     },
     "metadata": {
      "needs_background": "light"
     },
     "output_type": "display_data"
    }
   ],
   "source": [
    "ind = np.random.randint(0,10000)\n",
    "plt.imshow((255*x_te[ind]).astype('int'))\n",
    "plt .title(y_te[ind].argmax())"
   ]
  },
  {
   "cell_type": "code",
   "execution_count": null,
   "metadata": {
    "slideshow": {
     "slide_type": "fragment"
    }
   },
   "outputs": [],
   "source": []
  },
  {
   "cell_type": "markdown",
   "metadata": {},
   "source": [
    "### Callbacks"
   ]
  },
  {
   "cell_type": "code",
   "execution_count": 11,
   "metadata": {
    "jupyter": {
     "source_hidden": true
    }
   },
   "outputs": [],
   "source": [
    "class SaveLosseAndMetrics(tf.keras.callbacks.Callback):\n",
    "    \n",
    "    def __init__(self, batch_interval=5):\n",
    "        super(SaveLosseAndMetrics, self).__init__()\n",
    "        self.batch_interval = batch_interval\n",
    "        self.record = {}\n",
    "        self.keys = ['loss']\n",
    "    \n",
    "    def on_train_begin(self, logs=None):\n",
    "        self.keys += self.model.metrics_names\n",
    "        \n",
    "        for key in self.keys:\n",
    "            if key not in self.record.keys():\n",
    "                self.record[key] = []\n",
    "            \n",
    "    def on_train_batch_end(self, batch, logs=None):\n",
    "\n",
    "        if batch % self.batch_interval:\n",
    "            for key in self.keys:\n",
    "                self.record[key].append(logs[key])"
   ]
  },
  {
   "cell_type": "code",
   "execution_count": 12,
   "metadata": {
    "jupyter": {
     "source_hidden": true
    }
   },
   "outputs": [],
   "source": [
    "class LRScheduler(tf.keras.callbacks.Callback):\n",
    "    \n",
    "    def __init__(self):\n",
    "        \n",
    "        self.schedule = []\n",
    "        self.batches = None\n",
    "    \n",
    "    def on_epoch_end(self, epoch, logs=None):\n",
    "        #schedule here for lr of each batch \n",
    "        self.model.optimizer.lr = self.model.optimizer.lr * (10**-0.2)\n",
    "\n",
    "#     def on_train_batch_begin(self, batch, logs=None):\n",
    "#         pass\n",
    "       "
   ]
  },
  {
   "cell_type": "code",
   "execution_count": 13,
   "metadata": {
    "jupyter": {
     "source_hidden": true
    }
   },
   "outputs": [],
   "source": [
    "class SaveBestModel(tf.keras.callbacks.Callback):\n",
    "    \n",
    "    def __init__(self):\n",
    "        super(SaveBestModel, self).__init__()\n",
    "        \n",
    "        self.paratha = []\n",
    "    \n",
    "    def on_train_batch_end(self, batch, logs=None):\n",
    "        keys = list(logs.keys())\n",
    "        self.paratha.append(logs['loss'])"
   ]
  },
  {
   "cell_type": "code",
   "execution_count": 14,
   "metadata": {},
   "outputs": [
    {
     "ename": "NameError",
     "evalue": "name 'model' is not defined",
     "output_type": "error",
     "traceback": [
      "\u001b[0;31m---------------------------------------------------------------------------\u001b[0m",
      "\u001b[0;31mNameError\u001b[0m                                 Traceback (most recent call last)",
      "\u001b[0;32m<ipython-input-14-7b5f5dae0040>\u001b[0m in \u001b[0;36m<module>\u001b[0;34m\u001b[0m\n\u001b[0;32m----> 1\u001b[0;31m \u001b[0mmodel\u001b[0m\u001b[0;34m.\u001b[0m\u001b[0mstop_training\u001b[0m\u001b[0;34m\u001b[0m\u001b[0;34m\u001b[0m\u001b[0m\n\u001b[0m",
      "\u001b[0;31mNameError\u001b[0m: name 'model' is not defined"
     ]
    }
   ],
   "source": [
    "model.stop_training"
   ]
  },
  {
   "cell_type": "markdown",
   "metadata": {},
   "source": [
    "### Attempt 1"
   ]
  },
  {
   "cell_type": "code",
   "execution_count": 19,
   "metadata": {},
   "outputs": [],
   "source": [
    "class FeatureBlock2(tf.keras.Model):\n",
    "\n",
    "    def __init__(self):\n",
    "        super(FeatureBlock2, self).__init__()\n",
    "        \n",
    "        # Block 1\n",
    "        self.c11  = tf.keras.layers.Conv2D(35, (3,3))\n",
    "        self.c12  = tf.keras.layers.Conv2D(40, (3,3))\n",
    "        self.m11 = tf.keras.layers.MaxPool2D()\n",
    "        self.c13  = tf.keras.layers.Conv2D(40, (1,1))\n",
    "        \n",
    "        # Block 2\n",
    "        self.c21 = tf.keras.layers.Conv2D(40, (3,3))\n",
    "        self.c22 = tf.keras.layers.Conv2D(40, (3,3))\n",
    "        self.m21 = tf.keras.layers.MaxPool2D()\n",
    "        self.c23  = tf.keras.layers.Conv2D(50, (1,1))\n",
    "\n",
    "    def call(self, inputs):\n",
    "        \n",
    "        # Block 1\n",
    "        x1 = self.c11(inputs)\n",
    "        x1 = self.c12(x1)\n",
    "        x1 = self.m11(x1)\n",
    "        x1 = self.c13(x1)\n",
    "        \n",
    "        # Block 2\n",
    "        x2 = tf.keras.layers.ZeroPadding2D(padding=1)(x1)\n",
    "        x2 = self.c21(x2)\n",
    "        x2 = tf.keras.layers.ZeroPadding2D(padding=1)(x2)\n",
    "        x2 = self.c22(x2)     \n",
    "        x2 = self.m21(x2)\n",
    "        x2 = self.c23(x2)\n",
    "        \n",
    "        return x2\n",
    "\n",
    "class DenseBlock2(tf.keras.Model):\n",
    "\n",
    "    def __init__(self):\n",
    "        super(DenseBlock2, self).__init__()\n",
    "        \n",
    "        self.f31 = tf.keras.layers.Flatten()\n",
    "        self.d31 = tf.keras.layers.Dense(146, activation= tf.keras.activations.relu)\n",
    "        self.d32 = tf.keras.layers.Dense(100, activation= tf.keras.activations.softmax)\n",
    "\n",
    "    def call(self, inputs):\n",
    "        \n",
    "        x1 = self.f31(inputs)\n",
    "        x1 = self.d31(x1)\n",
    "        x1 = self.d32(x1)\n",
    "        #x3 = tf.clip_by_value(x3, 1e-2, 1)\n",
    "        \n",
    "        return x1\n",
    "\n",
    "class BasicModel2(tf.keras.Model):\n",
    "\n",
    "    def __init__(self):\n",
    "        super(BasicModel2, self).__init__()\n",
    "        \n",
    "        self.model_name = \"Basic\"\n",
    "        \n",
    "        self.feature_block = FeatureBlock2()\n",
    "        \n",
    "        self.dense_block = DenseBlock2()\n",
    "\n",
    "    def call(self, inputs):\n",
    "        \n",
    "        x1 = self.feature_block(inputs)\n",
    "        x2 = self.dense_block(x1)\n",
    "        \n",
    "        return x2"
   ]
  },
  {
   "cell_type": "code",
   "execution_count": null,
   "metadata": {
    "jupyter": {
     "source_hidden": true
    }
   },
   "outputs": [],
   "source": [
    "model = BasicModel2()\n",
    "optimizer=tf.keras.optimizers.Adam(learning_rate=3e-3)\n",
    "loss=tf.keras.losses.CategoricalCrossentropy()\n",
    "cb1 = SaveLosseAndMetrics()\n",
    "model.compile(optimizer,loss,metrics=['accuracy'])\n",
    "model.build((None, IMG_SIZE, IMG_SIZE, 3))\n",
    "model.summary()"
   ]
  },
  {
   "cell_type": "code",
   "execution_count": null,
   "metadata": {},
   "outputs": [],
   "source": [
    "hist = model.fit(x_tr, y_tr, epochs= 1\n",
    "                 , validation_data= (x_te, y_te), callbacks=[cb1,LongTermTrainer()])"
   ]
  },
  {
   "cell_type": "code",
   "execution_count": null,
   "metadata": {},
   "outputs": [],
   "source": [
    "plt.plot(moving_average(cb1.record['loss'],n=40))\n",
    "plt.plot(moving_average(cb1.record['loss'],n=300))"
   ]
  },
  {
   "cell_type": "code",
   "execution_count": 15,
   "metadata": {
    "jupyter": {
     "source_hidden": true
    }
   },
   "outputs": [
    {
     "ename": "NameError",
     "evalue": "name 'hist' is not defined",
     "output_type": "error",
     "traceback": [
      "\u001b[0;31m---------------------------------------------------------------------------\u001b[0m",
      "\u001b[0;31mNameError\u001b[0m                                 Traceback (most recent call last)",
      "\u001b[0;32m<ipython-input-15-8c1153337866>\u001b[0m in \u001b[0;36m<module>\u001b[0;34m\u001b[0m\n\u001b[0;32m----> 1\u001b[0;31m \u001b[0mplot_history\u001b[0m\u001b[0;34m(\u001b[0m\u001b[0mhist\u001b[0m\u001b[0;34m)\u001b[0m\u001b[0;34m\u001b[0m\u001b[0;34m\u001b[0m\u001b[0m\n\u001b[0m",
      "\u001b[0;31mNameError\u001b[0m: name 'hist' is not defined"
     ]
    }
   ],
   "source": [
    "plot_history(hist)"
   ]
  },
  {
   "cell_type": "markdown",
   "metadata": {},
   "source": [
    "### Attempt 2"
   ]
  },
  {
   "cell_type": "code",
   "execution_count": 16,
   "metadata": {},
   "outputs": [],
   "source": [
    "BATCH_SIZE = 100\n",
    "NUM_CLASSES = 100\n",
    "EPOCHS = 30\n",
    "INIT_DROPOUT_RATE = 0.5\n",
    "MOMENTUM_RATE = 0.9\n",
    "INIT_LEARNING_RATE = 0.5\n",
    "L2_DECAY_RATE = 0.0005\n",
    "CROP_SIZE = 32\n",
    "MODEL_PATH = './models/'\n",
    "LOG_PATH = './logs'"
   ]
  },
  {
   "cell_type": "code",
   "execution_count": 17,
   "metadata": {
    "jupyter": {
     "source_hidden": true
    }
   },
   "outputs": [],
   "source": [
    "class FeatureBlock2(tf.keras.Model):\n",
    "\n",
    "    def __init__(self):\n",
    "        super(FeatureBlock2, self).__init__()\n",
    "        \n",
    "        # Block 1\n",
    "        self.c11  = tf.keras.layers.Conv2D(96, \n",
    "                                           (3,3), \n",
    "                                           padding='same', \n",
    "                                           kernel_regularizer=tf.keras.regularizers.l2(L2_DECAY_RATE), \n",
    "                                           activation = tf.keras.activations.elu)\n",
    "        self.c12  = tf.keras.layers.Conv2D(96, \n",
    "                                           (3,3), \n",
    "                                           padding='same', \n",
    "                                           kernel_regularizer=tf.keras.regularizers.l2(L2_DECAY_RATE), \n",
    "                                           activation = tf.keras.activations.elu)\n",
    "        self.m11 = tf.keras.layers.MaxPool2D(pool_size=(2,2), padding='same')\n",
    "        self.dr11 = tf.keras.layers.Dropout(INIT_DROPOUT_RATE)\n",
    "        \n",
    "        # Block 2\n",
    "        self.c21  = tf.keras.layers.Conv2D(96, \n",
    "                                           (1,1), \n",
    "                                           padding='same', \n",
    "                                           kernel_regularizer=tf.keras.regularizers.l2(L2_DECAY_RATE), \n",
    "                                           activation = tf.keras.activations.elu)\n",
    "        self.c22  = tf.keras.layers.Conv2D(96, \n",
    "                                           (2,2), \n",
    "                                           padding='same', \n",
    "                                           kernel_regularizer=tf.keras.regularizers.l2(L2_DECAY_RATE), \n",
    "                                           activation = tf.keras.activations.elu)\n",
    "        self.c23  = tf.keras.layers.Conv2D(96, \n",
    "                                           (2,2), \n",
    "                                           padding='same', \n",
    "                                           kernel_regularizer=tf.keras.regularizers.l2(L2_DECAY_RATE), \n",
    "                                           activation = tf.keras.activations.elu)\n",
    "        self.m21 = tf.keras.layers.MaxPool2D(pool_size=(2,2), padding='same')\n",
    "        self.dr21 = tf.keras.layers.Dropout(INIT_DROPOUT_RATE)\n",
    "        \n",
    "        # Block 3\n",
    "        self.c31  = tf.keras.layers.Conv2D(168, \n",
    "                                           (1,1), \n",
    "                                           padding='same', \n",
    "                                           kernel_regularizer=tf.keras.regularizers.l2(L2_DECAY_RATE), \n",
    "                                           activation = tf.keras.activations.elu)\n",
    "        self.c32  = tf.keras.layers.Conv2D(168, \n",
    "                                           (2,2), \n",
    "                                           padding='same', \n",
    "                                           kernel_regularizer=tf.keras.regularizers.l2(L2_DECAY_RATE), \n",
    "                                           activation = tf.keras.activations.elu)\n",
    "        self.c33  = tf.keras.layers.Conv2D(168, \n",
    "                                           (2,2), \n",
    "                                           padding='same', \n",
    "                                           kernel_regularizer=tf.keras.regularizers.l2(L2_DECAY_RATE), \n",
    "                                           activation = tf.keras.activations.elu)\n",
    "        self.m31 = tf.keras.layers.MaxPool2D(pool_size=(2,2), padding='same')\n",
    "        self.dr31 = tf.keras.layers.Dropout(INIT_DROPOUT_RATE)\n",
    "        \n",
    "        # Block 4 \n",
    "        self.c41  = tf.keras.layers.Conv2D(168, \n",
    "                                           (1,1), \n",
    "                                           padding='same', \n",
    "                                           kernel_regularizer=tf.keras.regularizers.l2(L2_DECAY_RATE), \n",
    "                                           activation = tf.keras.activations.elu)\n",
    "        self.c42  = tf.keras.layers.Conv2D(168, \n",
    "                                           (2,2), \n",
    "                                           padding='same', \n",
    "                                           kernel_regularizer=tf.keras.regularizers.l2(L2_DECAY_RATE), \n",
    "                                           activation = tf.keras.activations.elu)\n",
    "        self.c43  = tf.keras.layers.Conv2D(168, \n",
    "                                           (2,2), \n",
    "                                           padding='same', \n",
    "                                           kernel_regularizer=tf.keras.regularizers.l2(L2_DECAY_RATE), \n",
    "                                           activation = tf.keras.activations.elu)\n",
    "        self.m41 = tf.keras.layers.MaxPool2D(pool_size=(2,2), padding='same')\n",
    "        self.dr41 = tf.keras.layers.Dropout(INIT_DROPOUT_RATE)\n",
    "        \n",
    "    def call(self, inputs):\n",
    "        \n",
    "        # Block 1\n",
    "        x1 = self.c11(inputs)\n",
    "        x1 = self.c12(x1)\n",
    "        x1 = self.m11(x1)\n",
    "        #x1 = self.dr11(x1)\n",
    "        \n",
    "        # Block 2\n",
    "        x2 = self.c21(x1)\n",
    "        x2 = self.c22(x2)\n",
    "        x2 = self.c23(x2)\n",
    "        x2 = self.m21(x2)\n",
    "        #x2 = self.dr21(x2)\n",
    "        \n",
    "        # Block 3\n",
    "        x3 = self.c31(x2)\n",
    "        x3 = self.c32(x3)\n",
    "        x3 = self.c33(x3)\n",
    "        x3 = self.m31(x3)\n",
    "        #x3 = self.dr31(x3)\n",
    "        \n",
    "        # Block 4\n",
    "        x4 = self.c41(x3)\n",
    "        x4 = self.c42(x4)\n",
    "        x4 = self.c43(x4)\n",
    "        x4 = self.m41(x4)\n",
    "        #x4 = self.dr41(x4)\n",
    "        \n",
    "        return x4\n",
    "\n",
    "class DenseBlock2(tf.keras.Model):\n",
    "\n",
    "    def __init__(self):\n",
    "        super(DenseBlock2, self).__init__()\n",
    "        \n",
    "        self.f31 = tf.keras.layers.Flatten()\n",
    "        self.d31 = tf.keras.layers.Dense(200, activation= tf.keras.activations.relu)\n",
    "        self.d32 = tf.keras.layers.Dense(100, activation= tf.keras.activations.softmax)\n",
    "\n",
    "    def call(self, inputs):\n",
    "        \n",
    "        x1 = self.f31(inputs)\n",
    "        x1 = self.d31(x1)\n",
    "        x1 = self.d32(x1)\n",
    "        \n",
    "        return x1\n",
    "\n",
    "class BasicModel2(tf.keras.Model):\n",
    "\n",
    "    def __init__(self):\n",
    "        super(BasicModel2, self).__init__()\n",
    "        \n",
    "        self.feature_block = FeatureBlock2()\n",
    "        self.dense_block = DenseBlock2()\n",
    "\n",
    "    def call(self, inputs):\n",
    "        \n",
    "        x1 = self.feature_block(inputs)\n",
    "        x2 = self.dense_block(x1)\n",
    "        \n",
    "        return x2"
   ]
  },
  {
   "cell_type": "code",
   "execution_count": 20,
   "metadata": {},
   "outputs": [
    {
     "name": "stdout",
     "output_type": "stream",
     "text": [
      "WARNING:tensorflow:`batch_size` is no longer needed in the `TensorBoard` Callback and will be ignored in TensorFlow 2.0.\n",
      "Model: \"basic_model2_1\"\n",
      "_________________________________________________________________\n",
      "Layer (type)                 Output Shape              Param #   \n",
      "=================================================================\n",
      "feature_block2_1 (FeatureBlo multiple                  46190     \n",
      "_________________________________________________________________\n",
      "dense_block2_1 (DenseBlock2) multiple                  372546    \n",
      "=================================================================\n",
      "Total params: 418,736\n",
      "Trainable params: 418,736\n",
      "Non-trainable params: 0\n",
      "_________________________________________________________________\n"
     ]
    }
   ],
   "source": [
    "model = BasicModel2()\n",
    "optimizer=tf.keras.optimizers.SGD(lr=INIT_LEARNING_RATE, momentum=MOMENTUM_RATE)\n",
    "loss=tf.keras.losses.CategoricalCrossentropy()\n",
    "cb1 = SaveLosseAndMetrics()\n",
    "cb2 = LRScheduler()\n",
    "cb3 = tf.keras.callbacks.ModelCheckpoint(MODEL_PATH, monitor='val_loss', verbose=1, save_best_only=True, save_weights_only=True)\n",
    "cb4 = tf.keras.callbacks.TensorBoard(log_dir=LOG_PATH, batch_size=BATCH_SIZE)\n",
    "model.compile(optimizer,loss,metrics=['accuracy'])\n",
    "model.build((None, IMG_SIZE, IMG_SIZE, 3))\n",
    "model.summary()"
   ]
  },
  {
   "cell_type": "code",
   "execution_count": 41,
   "metadata": {},
   "outputs": [
    {
     "name": "stdout",
     "output_type": "stream",
     "text": [
      "Starting to train new model\n",
      "1563/1563 [==============================] - ETA: 0s - loss: nan - accuracy: 0.0100\n",
      "Epoch 00001: val_loss did not improve from inf\n",
      "Saving weights..."
     ]
    },
    {
     "ename": "AttributeError",
     "evalue": "'LongTermTrainer' object has no attribute 'save_weights'",
     "output_type": "error",
     "traceback": [
      "\u001b[0;31m---------------------------------------------------------------------------\u001b[0m",
      "\u001b[0;31mAttributeError\u001b[0m                            Traceback (most recent call last)",
      "\u001b[0;32m<ipython-input-41-4e54a0fb2928>\u001b[0m in \u001b[0;36m<module>\u001b[0;34m\u001b[0m\n\u001b[1;32m      1\u001b[0m hist = model.fit(x_tr\n\u001b[1;32m      2\u001b[0m                  \u001b[0;34m,\u001b[0m\u001b[0my_tr\u001b[0m\u001b[0;34m,\u001b[0m \u001b[0mepochs\u001b[0m\u001b[0;34m=\u001b[0m \u001b[0;36m1\u001b[0m\u001b[0;34m\u001b[0m\u001b[0;34m\u001b[0m\u001b[0m\n\u001b[0;32m----> 3\u001b[0;31m                  , validation_data= (x_te, y_te), callbacks=[cb1,cb3, LongTermTrainer()])\n\u001b[0m",
      "\u001b[0;32m~/Projects/venv/lib/python3.6/site-packages/tensorflow/python/keras/engine/training.py\u001b[0m in \u001b[0;36m_method_wrapper\u001b[0;34m(self, *args, **kwargs)\u001b[0m\n\u001b[1;32m    106\u001b[0m   \u001b[0;32mdef\u001b[0m \u001b[0m_method_wrapper\u001b[0m\u001b[0;34m(\u001b[0m\u001b[0mself\u001b[0m\u001b[0;34m,\u001b[0m \u001b[0;34m*\u001b[0m\u001b[0margs\u001b[0m\u001b[0;34m,\u001b[0m \u001b[0;34m**\u001b[0m\u001b[0mkwargs\u001b[0m\u001b[0;34m)\u001b[0m\u001b[0;34m:\u001b[0m\u001b[0;34m\u001b[0m\u001b[0;34m\u001b[0m\u001b[0m\n\u001b[1;32m    107\u001b[0m     \u001b[0;32mif\u001b[0m \u001b[0;32mnot\u001b[0m \u001b[0mself\u001b[0m\u001b[0;34m.\u001b[0m\u001b[0m_in_multi_worker_mode\u001b[0m\u001b[0;34m(\u001b[0m\u001b[0;34m)\u001b[0m\u001b[0;34m:\u001b[0m  \u001b[0;31m# pylint: disable=protected-access\u001b[0m\u001b[0;34m\u001b[0m\u001b[0;34m\u001b[0m\u001b[0m\n\u001b[0;32m--> 108\u001b[0;31m       \u001b[0;32mreturn\u001b[0m \u001b[0mmethod\u001b[0m\u001b[0;34m(\u001b[0m\u001b[0mself\u001b[0m\u001b[0;34m,\u001b[0m \u001b[0;34m*\u001b[0m\u001b[0margs\u001b[0m\u001b[0;34m,\u001b[0m \u001b[0;34m**\u001b[0m\u001b[0mkwargs\u001b[0m\u001b[0;34m)\u001b[0m\u001b[0;34m\u001b[0m\u001b[0;34m\u001b[0m\u001b[0m\n\u001b[0m\u001b[1;32m    109\u001b[0m \u001b[0;34m\u001b[0m\u001b[0m\n\u001b[1;32m    110\u001b[0m     \u001b[0;31m# Running inside `run_distribute_coordinator` already.\u001b[0m\u001b[0;34m\u001b[0m\u001b[0;34m\u001b[0m\u001b[0;34m\u001b[0m\u001b[0m\n",
      "\u001b[0;32m~/Projects/venv/lib/python3.6/site-packages/tensorflow/python/keras/engine/training.py\u001b[0m in \u001b[0;36mfit\u001b[0;34m(self, x, y, batch_size, epochs, verbose, callbacks, validation_split, validation_data, shuffle, class_weight, sample_weight, initial_epoch, steps_per_epoch, validation_steps, validation_batch_size, validation_freq, max_queue_size, workers, use_multiprocessing)\u001b[0m\n\u001b[1;32m   1139\u001b[0m           \u001b[0mepoch_logs\u001b[0m\u001b[0;34m.\u001b[0m\u001b[0mupdate\u001b[0m\u001b[0;34m(\u001b[0m\u001b[0mval_logs\u001b[0m\u001b[0;34m)\u001b[0m\u001b[0;34m\u001b[0m\u001b[0;34m\u001b[0m\u001b[0m\n\u001b[1;32m   1140\u001b[0m \u001b[0;34m\u001b[0m\u001b[0m\n\u001b[0;32m-> 1141\u001b[0;31m         \u001b[0mcallbacks\u001b[0m\u001b[0;34m.\u001b[0m\u001b[0mon_epoch_end\u001b[0m\u001b[0;34m(\u001b[0m\u001b[0mepoch\u001b[0m\u001b[0;34m,\u001b[0m \u001b[0mepoch_logs\u001b[0m\u001b[0;34m)\u001b[0m\u001b[0;34m\u001b[0m\u001b[0;34m\u001b[0m\u001b[0m\n\u001b[0m\u001b[1;32m   1142\u001b[0m         \u001b[0mtraining_logs\u001b[0m \u001b[0;34m=\u001b[0m \u001b[0mepoch_logs\u001b[0m\u001b[0;34m\u001b[0m\u001b[0;34m\u001b[0m\u001b[0m\n\u001b[1;32m   1143\u001b[0m         \u001b[0;32mif\u001b[0m \u001b[0mself\u001b[0m\u001b[0;34m.\u001b[0m\u001b[0mstop_training\u001b[0m\u001b[0;34m:\u001b[0m\u001b[0;34m\u001b[0m\u001b[0;34m\u001b[0m\u001b[0m\n",
      "\u001b[0;32m~/Projects/venv/lib/python3.6/site-packages/tensorflow/python/keras/callbacks.py\u001b[0m in \u001b[0;36mon_epoch_end\u001b[0;34m(self, epoch, logs)\u001b[0m\n\u001b[1;32m    414\u001b[0m         \u001b[0;32mif\u001b[0m \u001b[0mnumpy_logs\u001b[0m \u001b[0;32mis\u001b[0m \u001b[0;32mNone\u001b[0m\u001b[0;34m:\u001b[0m  \u001b[0;31m# Only convert once.\u001b[0m\u001b[0;34m\u001b[0m\u001b[0;34m\u001b[0m\u001b[0m\n\u001b[1;32m    415\u001b[0m           \u001b[0mnumpy_logs\u001b[0m \u001b[0;34m=\u001b[0m \u001b[0mtf_utils\u001b[0m\u001b[0;34m.\u001b[0m\u001b[0mto_numpy_or_python_type\u001b[0m\u001b[0;34m(\u001b[0m\u001b[0mlogs\u001b[0m\u001b[0;34m)\u001b[0m\u001b[0;34m\u001b[0m\u001b[0;34m\u001b[0m\u001b[0m\n\u001b[0;32m--> 416\u001b[0;31m         \u001b[0mcallback\u001b[0m\u001b[0;34m.\u001b[0m\u001b[0mon_epoch_end\u001b[0m\u001b[0;34m(\u001b[0m\u001b[0mepoch\u001b[0m\u001b[0;34m,\u001b[0m \u001b[0mnumpy_logs\u001b[0m\u001b[0;34m)\u001b[0m\u001b[0;34m\u001b[0m\u001b[0;34m\u001b[0m\u001b[0m\n\u001b[0m\u001b[1;32m    417\u001b[0m \u001b[0;34m\u001b[0m\u001b[0m\n\u001b[1;32m    418\u001b[0m   \u001b[0;32mdef\u001b[0m \u001b[0mon_train_batch_begin\u001b[0m\u001b[0;34m(\u001b[0m\u001b[0mself\u001b[0m\u001b[0;34m,\u001b[0m \u001b[0mbatch\u001b[0m\u001b[0;34m,\u001b[0m \u001b[0mlogs\u001b[0m\u001b[0;34m=\u001b[0m\u001b[0;32mNone\u001b[0m\u001b[0;34m)\u001b[0m\u001b[0;34m:\u001b[0m\u001b[0;34m\u001b[0m\u001b[0;34m\u001b[0m\u001b[0m\n",
      "\u001b[0;32m<ipython-input-27-407bf7cfa217>\u001b[0m in \u001b[0;36mon_epoch_end\u001b[0;34m(self, epoch, logs)\u001b[0m\n\u001b[1;32m     25\u001b[0m         \u001b[0;31m# check conditions on epoch to stop training\u001b[0m\u001b[0;34m\u001b[0m\u001b[0;34m\u001b[0m\u001b[0;34m\u001b[0m\u001b[0m\n\u001b[1;32m     26\u001b[0m         \u001b[0mprint\u001b[0m\u001b[0;34m(\u001b[0m\u001b[0;34m'Saving weights...'\u001b[0m\u001b[0;34m,\u001b[0m \u001b[0mend\u001b[0m\u001b[0;34m=\u001b[0m\u001b[0;34m''\u001b[0m\u001b[0;34m)\u001b[0m\u001b[0;34m\u001b[0m\u001b[0;34m\u001b[0m\u001b[0m\n\u001b[0;32m---> 27\u001b[0;31m         \u001b[0mself\u001b[0m\u001b[0;34m.\u001b[0m\u001b[0msave_weights\u001b[0m\u001b[0;34m(\u001b[0m\u001b[0;34m'./../'\u001b[0m \u001b[0;34m+\u001b[0m \u001b[0;34m'checkpoints/'\u001b[0m \u001b[0;34m+\u001b[0m \u001b[0mself\u001b[0m\u001b[0;34m.\u001b[0m\u001b[0mmodel\u001b[0m\u001b[0;34m.\u001b[0m\u001b[0mmodel_name\u001b[0m \u001b[0;34m+\u001b[0m \u001b[0mstr\u001b[0m\u001b[0;34m(\u001b[0m\u001b[0mself\u001b[0m\u001b[0;34m.\u001b[0m\u001b[0mepoch\u001b[0m\u001b[0;34m)\u001b[0m\u001b[0;34m)\u001b[0m\u001b[0;34m\u001b[0m\u001b[0;34m\u001b[0m\u001b[0m\n\u001b[0m\u001b[1;32m     28\u001b[0m         \u001b[0mprint\u001b[0m\u001b[0;34m(\u001b[0m\u001b[0;34m'Done'\u001b[0m\u001b[0;34m)\u001b[0m\u001b[0;34m\u001b[0m\u001b[0;34m\u001b[0m\u001b[0m\n",
      "\u001b[0;31mAttributeError\u001b[0m: 'LongTermTrainer' object has no attribute 'save_weights'"
     ]
    }
   ],
   "source": [
    "hist = model.fit(x_tr\n",
    "                 ,y_tr, epochs= 1\n",
    "                 , validation_data= (x_te, y_te), callbacks=[cb1,cb3, LongTermTrainer()])"
   ]
  },
  {
   "cell_type": "code",
   "execution_count": 21,
   "metadata": {},
   "outputs": [],
   "source": [
    "model.save_weights('./../checkpoints/try',)"
   ]
  },
  {
   "cell_type": "code",
   "execution_count": 32,
   "metadata": {},
   "outputs": [
    {
     "name": "stdout",
     "output_type": "stream",
     "text": [
      "['cat', 'wildcat', 'thundercat']\n"
     ]
    },
    {
     "data": {
      "text/plain": [
       "[1, 2]"
      ]
     },
     "execution_count": 32,
     "metadata": {},
     "output_type": "execute_result"
    }
   ],
   "source": [
    "import os\n",
    "os.getcwd()\n",
    "os.listdir(path='/home/mobiliser/Desktop/')\n",
    "import re\n",
    "\n",
    "mylist = [\"dog\", \"cat\", \"wildcat\", \"thundercat\", \"cow\", \"hooo\"]\n",
    "r = re.compile(\".*cat\")\n",
    "newlist = list(filter(r.match, mylist)) # Read Note\n",
    "print(newlist)\n",
    "\n",
    "list(map(int, ['1', '2']))"
   ]
  },
  {
   "cell_type": "code",
   "execution_count": 20,
   "metadata": {},
   "outputs": [
    {
     "data": {
      "text/plain": [
       "[<matplotlib.lines.Line2D at 0x7fdc2f733b38>]"
      ]
     },
     "execution_count": 20,
     "metadata": {},
     "output_type": "execute_result"
    },
    {
     "data": {
      "image/png": "[encoded data removed]",
      "text/plain": [
       "<Figure size 432x288 with 1 Axes>"
      ]
     },
     "metadata": {
      "needs_background": "light"
     },
     "output_type": "display_data"
    }
   ],
   "source": [
    "plt.plot(moving_average(cb1.record['loss'],n=40))\n",
    "plt.plot(moving_average(cb1.record['loss'],n=300))"
   ]
  },
  {
   "cell_type": "code",
   "execution_count": 21,
   "metadata": {},
   "outputs": [
    {
     "data": {
      "image/png": "[encoded data removed]",
      "text/plain": [
       "<Figure size 432x288 with 2 Axes>"
      ]
     },
     "metadata": {
      "needs_background": "light"
     },
     "output_type": "display_data"
    }
   ],
   "source": [
    "plot_history(hist)"
   ]
  },
  {
   "cell_type": "code",
   "execution_count": 25,
   "metadata": {},
   "outputs": [],
   "source": [
    "model.optimizer.lr = 0.9999"
   ]
  },
  {
   "cell_type": "code",
   "execution_count": 26,
   "metadata": {},
   "outputs": [
    {
     "data": {
      "text/plain": [
       "<tf.Variable 'learning_rate:0' shape=() dtype=float32, numpy=0.9999>"
      ]
     },
     "execution_count": 26,
     "metadata": {},
     "output_type": "execute_result"
    }
   ],
   "source": [
    "model.optimizer.lr"
   ]
  },
  {
   "cell_type": "code",
   "execution_count": null,
   "metadata": {},
   "outputs": [],
   "source": []
  }
 ],
 "metadata": {
  "kernelspec": {
   "display_name": "venv",
   "language": "python",
   "name": "venv"
  },
  "language_info": {
   "codemirror_mode": {
    "name": "ipython",
    "version": 3
   },
   "file_extension": ".py",
   "mimetype": "text/x-python",
   "name": "python",
   "nbconvert_exporter": "python",
   "pygments_lexer": "ipython3",
   "version": "3.6.9"
  }
 },
 "nbformat": 4,
 "nbformat_minor": 4
}
