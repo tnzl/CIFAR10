{
 "cells": [
  {
   "cell_type": "code",
   "execution_count": 1,
   "metadata": {},
   "outputs": [],
   "source": [
    "import numpy as np\n",
    "import tensorflow as tf\n",
    "tf.random.set_seed(1234)\n",
    "import matplotlib.pyplot as plt\n",
    "import cv2\n",
    "import pandas as pd"
   ]
  },
  {
   "cell_type": "code",
   "execution_count": 2,
   "metadata": {},
   "outputs": [],
   "source": [
    "from sklearn.preprocessing import OneHotEncoder\n",
    "from sklearn.model_selection import train_test_split"
   ]
  },
  {
   "cell_type": "code",
   "execution_count": null,
   "metadata": {},
   "outputs": [],
   "source": [
    "tf._"
   ]
  },
  {
   "cell_type": "code",
   "execution_count": 3,
   "metadata": {},
   "outputs": [],
   "source": [
    "IMG_SIZE = 28"
   ]
  },
  {
   "cell_type": "code",
   "execution_count": 4,
   "metadata": {},
   "outputs": [],
   "source": [
    "# Assemble dataset\n",
    "def get_matrices():\n",
    "\n",
    "    x = pd.read_csv('./mnist/x_train.csv').to_numpy()\n",
    "    y = pd.read_csv('./mnist/y_train.csv').to_numpy()\n",
    "    \n",
    "    x_tr, x_te, y_tr, y_te = train_test_split(x, y, test_size = 0.2)\n",
    "    \n",
    "    x_te, y_te = preprocess(x_te, y_te)\n",
    "    x_tr, y_tr = preprocess(x_tr, y_tr)\n",
    "    \n",
    "    print('x_tr shape: '+ str(x_tr.shape))\n",
    "    print('y_tr shape: '+ str(y_tr.shape))\n",
    "    print('\\nx_tr dtype: '+ str(x_tr.dtype))\n",
    "    print('y_tr dtype: '+ str(y_tr.dtype))\n",
    "    print('\\nx_te shape: '+ str(x_te.shape))\n",
    "    print('y_te shape: '+ str(y_te.shape))\n",
    "    print('\\nx_te dtype: '+ str(x_te.dtype))\n",
    "    print('y_te dtype: '+ str(y_te.dtype))  \n",
    "    \n",
    "    return x_tr, y_tr, x_te, y_te\n"
   ]
  },
  {
   "cell_type": "code",
   "execution_count": 5,
   "metadata": {},
   "outputs": [],
   "source": [
    "# Assemble pre-processes\n",
    "def preprocess(x, y):\n",
    "    \n",
    "    # ohe\n",
    "    y = OneHotEncoder().fit_transform(np.array(y).reshape(-1,1)).toarray()\n",
    "    \n",
    "    # reshape x\n",
    "    x = x.reshape((x.shape[0], 28, 28, 1))\n",
    "    \n",
    "    # Convert greyscale to rgb\n",
    "    x = np.array(list(map(grey2rgbrandomised, x)), dtype = np.float64)\n",
    "\n",
    "    # as float\n",
    "    y = y.astype('float16')\n",
    "    \n",
    "    # normalize\n",
    "    min_val = np.min(x)\n",
    "    max_val = np.max(x)\n",
    "    x = (x-min_val) / (max_val-min_val)\n",
    "    \n",
    "    return x, y\n",
    "\n",
    "# Pre-process functions here \n",
    "def grey2rgbrandomised(img):\n",
    "    \n",
    "    c = False\n",
    "    filter = np.random.random(size=(3))\n",
    "    image_rgb = []\n",
    "\n",
    "    for i in range(3):\n",
    "        if filter[i] < 0.20:\n",
    "            image_rgb.append(img)\n",
    "            c = True\n",
    "        elif filter[i] < 0.60:\n",
    "            image_rgb.append(255*np.ones((28,28,1), dtype = np.int))\n",
    "        else:\n",
    "            image_rgb.append(np.zeros((28,28,1), dtype = np.int))\n",
    "\n",
    "    if c:\n",
    "        return cv2.merge(image_rgb)\n",
    "    else:\n",
    "        return grey2rgbrandomised(img)\n",
    "    "
   ]
  },
  {
   "cell_type": "code",
   "execution_count": 6,
   "metadata": {},
   "outputs": [],
   "source": [
    "# Common functions\n",
    "\n",
    "def moving_average(a, n=3) :\n",
    "    ret = np.cumsum(a, dtype=float)\n",
    "    ret[n:] = ret[n:] - ret[:-n]\n",
    "    return ret[n - 1:] / n\n",
    "\n",
    "def plot_history(hist):\n",
    "    fig=plt.figure()\n",
    "    ax=fig.add_subplot(121)\n",
    "    bx=fig.add_subplot(122)\n",
    "    ax.plot(hist.history['loss'],label='loss')\n",
    "    ax.plot(hist.history['val_loss'],label='val_loss')\n",
    "    ax.set_title('loss')\n",
    "    ax.legend()\n",
    "    bx.plot(hist.history['accuracy'],label='accuracy')\n",
    "    bx.plot(hist.history['val_accuracy'],label='val_accuracy')\n",
    "    bx.set_title('accuracy')\n",
    "    bx.legend()"
   ]
  },
  {
   "cell_type": "code",
   "execution_count": 7,
   "metadata": {},
   "outputs": [
    {
     "name": "stdout",
     "output_type": "stream",
     "text": [
      "x_tr shape: (33600, 28, 28, 3)\n",
      "y_tr shape: (33600, 10)\n",
      "\n",
      "x_tr dtype: float64\n",
      "y_tr dtype: float16\n",
      "\n",
      "x_te shape: (8400, 28, 28, 3)\n",
      "y_te shape: (8400, 10)\n",
      "\n",
      "x_te dtype: float64\n",
      "y_te dtype: float16\n"
     ]
    }
   ],
   "source": [
    "x_tr, y_tr, x_te, y_te = get_matrices()"
   ]
  },
  {
   "cell_type": "code",
   "execution_count": 8,
   "metadata": {},
   "outputs": [
    {
     "data": {
      "image/png": "[encoded data removed]",
      "text/plain": [
       "<Figure size 1152x576 with 24 Axes>"
      ]
     },
     "metadata": {
      "needs_background": "light"
     },
     "output_type": "display_data"
    }
   ],
   "source": [
    "ind = np.random.randint(0,20000)\n",
    "img = (255*x_tr[ind]).astype('int')\n",
    "\n",
    "fig = plt.figure(figsize = (16,8))\n",
    "columns = 6\n",
    "rows = 4\n",
    "\n",
    "for i in range(1, columns*rows +1):\n",
    "    ind = np.random.randint(0,20000)\n",
    "    img = (255*x_tr[ind]).astype('int')\n",
    "    fig.add_subplot(rows, columns, i)\n",
    "    plt.imshow(img)\n",
    "plt.show()"
   ]
  },
  {
   "cell_type": "code",
   "execution_count": null,
   "metadata": {},
   "outputs": [],
   "source": []
  },
  {
   "cell_type": "code",
   "execution_count": null,
   "metadata": {},
   "outputs": [],
   "source": []
  },
  {
   "cell_type": "markdown",
   "metadata": {},
   "source": [
    "### Callbacks"
   ]
  },
  {
   "cell_type": "code",
   "execution_count": 10,
   "metadata": {},
   "outputs": [],
   "source": [
    "class SaveLosseAndMetrics(tf.keras.callbacks.Callback):\n",
    "    \n",
    "    def __init__(self):\n",
    "        super(SaveLosseAndMetrics, self).__init__()\n",
    "        \n",
    "        self.paratha = []\n",
    "    \n",
    "    def on_train_batch_end(self, batch, logs=None):\n",
    "        keys = list(logs.keys())\n",
    "        self.paratha.append(logs['loss'])"
   ]
  },
  {
   "cell_type": "code",
   "execution_count": null,
   "metadata": {},
   "outputs": [],
   "source": []
  },
  {
   "cell_type": "markdown",
   "metadata": {},
   "source": [
    "### Attempt 1"
   ]
  },
  {
   "cell_type": "code",
   "execution_count": 17,
   "metadata": {},
   "outputs": [],
   "source": [
    "class BasicModel(tf.keras.Model):\n",
    "\n",
    "    def __init__(self):\n",
    "        super(BasicModel, self).__init__()\n",
    "        \n",
    "        # Block 1\n",
    "        self.c11  = tf.keras.layers.Conv2D(35, (3,3))\n",
    "        self.c12  = tf.keras.layers.Conv2D(40, (3,3))\n",
    "        self.m11 = tf.keras.layers.MaxPool2D()\n",
    "        self.c13  = tf.keras.layers.Conv2D(40, (1,1))\n",
    "        \n",
    "        # Block 2\n",
    "        self.c21 = tf.keras.layers.Conv2D(40, (3,3))\n",
    "        self.c22 = tf.keras.layers.Conv2D(40, (3,3))\n",
    "        self.m21 = tf.keras.layers.MaxPool2D()\n",
    "        self.c23  = tf.keras.layers.Conv2D(50, (1,1))\n",
    "        \n",
    "        # Dense Block\n",
    "        self.f31 = tf.keras.layers.Flatten()\n",
    "        self.d31 = tf.keras.layers.Dense(146, activation= tf.keras.activations.relu)\n",
    "        self.d32 = tf.keras.layers.Dense(81, activation= tf.keras.activations.relu)\n",
    "        self.d33 = tf.keras.layers.Dense(10, activation= tf.keras.activations.softmax)\n",
    "\n",
    "    def call(self, inputs):\n",
    "        \n",
    "        # Block 1\n",
    "        x1 = self.c11(inputs)\n",
    "        x1 = self.c12(x1)\n",
    "        x1 = self.m11(x1)\n",
    "        x1 = self.c13(x1)\n",
    "        \n",
    "        # Block 2\n",
    "        x2 = tf.keras.layers.ZeroPadding2D(padding=1)(x1)\n",
    "        x2 = self.c21(x2)\n",
    "        x2 = tf.keras.layers.ZeroPadding2D(padding=1)(x2)\n",
    "        x2 = self.c22(x2)     \n",
    "        x2 = self.m21(x2)\n",
    "        x2 = self.c23(x2)\n",
    "        \n",
    "        # Dense Block \n",
    "        x3 = self.f31(x2)\n",
    "        x3 = self.d31(x3)\n",
    "        x3 = self.d32(x3)\n",
    "        x3 = self.d33(x3)\n",
    "        x3 = tf.clip_by_value(x3, 1e-1, 1)\n",
    "        \n",
    "        return x3"
   ]
  },
  {
   "cell_type": "code",
   "execution_count": 18,
   "metadata": {},
   "outputs": [],
   "source": [
    "model = BasicModel()"
   ]
  },
  {
   "cell_type": "code",
   "execution_count": 19,
   "metadata": {},
   "outputs": [
    {
     "name": "stdout",
     "output_type": "stream",
     "text": [
      "Model: \"basic_model_2\"\n",
      "_________________________________________________________________\n",
      "Layer (type)                 Output Shape              Param #   \n",
      "=================================================================\n",
      "conv2d_12 (Conv2D)           multiple                  980       \n",
      "_________________________________________________________________\n",
      "conv2d_13 (Conv2D)           multiple                  12640     \n",
      "_________________________________________________________________\n",
      "max_pooling2d_4 (MaxPooling2 multiple                  0         \n",
      "_________________________________________________________________\n",
      "conv2d_14 (Conv2D)           multiple                  1640      \n",
      "_________________________________________________________________\n",
      "conv2d_15 (Conv2D)           multiple                  14440     \n",
      "_________________________________________________________________\n",
      "conv2d_16 (Conv2D)           multiple                  14440     \n",
      "_________________________________________________________________\n",
      "max_pooling2d_5 (MaxPooling2 multiple                  0         \n",
      "_________________________________________________________________\n",
      "conv2d_17 (Conv2D)           multiple                  2050      \n",
      "_________________________________________________________________\n",
      "flatten_2 (Flatten)          multiple                  0         \n",
      "_________________________________________________________________\n",
      "dense_6 (Dense)              multiple                  262946    \n",
      "_________________________________________________________________\n",
      "dense_7 (Dense)              multiple                  11907     \n",
      "_________________________________________________________________\n",
      "dense_8 (Dense)              multiple                  820       \n",
      "=================================================================\n",
      "Total params: 321,863\n",
      "Trainable params: 321,863\n",
      "Non-trainable params: 0\n",
      "_________________________________________________________________\n"
     ]
    }
   ],
   "source": [
    "optimizer=tf.keras.optimizers.Adam(learning_rate=3e-3)\n",
    "loss=tf.keras.losses.CategoricalCrossentropy()\n",
    "model.compile(optimizer,loss,metrics=['accuracy'])\n",
    "model.build((None, IMG_SIZE, IMG_SIZE, 3))\n",
    "model.summary()"
   ]
  },
  {
   "cell_type": "code",
   "execution_count": 1,
   "metadata": {},
   "outputs": [],
   "source": [
    "hist = model.fit(x_tr, y_tr, epochs= 6, validation_data= (x_te, y_te),callbacks=[cb1])"
   ]
  },
  {
   "cell_type": "code",
   "execution_count": null,
   "metadata": {},
   "outputs": [],
   "source": [
    "plot_history(hist)"
   ]
  },
  {
   "cell_type": "code",
   "execution_count": null,
   "metadata": {},
   "outputs": [],
   "source": []
  },
  {
   "cell_type": "markdown",
   "metadata": {},
   "source": [
    "### Attempt 2\n"
   ]
  },
  {
   "cell_type": "code",
   "execution_count": 8,
   "metadata": {},
   "outputs": [],
   "source": [
    "class FeatureBlock2(tf.keras.Model):\n",
    "\n",
    "    def __init__(self):\n",
    "        super(FeatureBlock2, self).__init__()\n",
    "        \n",
    "        # Block 1\n",
    "        self.c11  = tf.keras.layers.Conv2D(35, (3,3))\n",
    "        self.c12  = tf.keras.layers.Conv2D(40, (3,3))\n",
    "        self.m11 = tf.keras.layers.MaxPool2D()\n",
    "        self.c13  = tf.keras.layers.Conv2D(40, (1,1))\n",
    "        \n",
    "        # Block 2\n",
    "        self.c21 = tf.keras.layers.Conv2D(40, (3,3))\n",
    "        self.c22 = tf.keras.layers.Conv2D(40, (3,3))\n",
    "        self.m21 = tf.keras.layers.MaxPool2D()\n",
    "        self.c23  = tf.keras.layers.Conv2D(50, (1,1))\n",
    "\n",
    "    def call(self, inputs):\n",
    "        \n",
    "        # Block 1\n",
    "        x1 = self.c11(inputs)\n",
    "        x1 = self.c12(x1)\n",
    "        x1 = self.m11(x1)\n",
    "        x1 = self.c13(x1)\n",
    "        \n",
    "        # Block 2\n",
    "        x2 = tf.keras.layers.ZeroPadding2D(padding=1)(x1)\n",
    "        x2 = self.c21(x2)\n",
    "        x2 = tf.keras.layers.ZeroPadding2D(padding=1)(x2)\n",
    "        x2 = self.c22(x2)     \n",
    "        x2 = self.m21(x2)\n",
    "        x2 = self.c23(x2)\n",
    "        \n",
    "        return x2\n",
    "\n",
    "class DenseBlock2(tf.keras.Model):\n",
    "\n",
    "    def __init__(self):\n",
    "        super(DenseBlock2, self).__init__()\n",
    "        \n",
    "        self.f31 = tf.keras.layers.Flatten()\n",
    "        self.d31 = tf.keras.layers.Dense(146, activation= tf.keras.activations.relu)\n",
    "        self.d32 = tf.keras.layers.Dense(81, activation= tf.keras.activations.relu)\n",
    "        self.d33 = tf.keras.layers.Dense(10, activation= tf.keras.activations.softmax)\n",
    "\n",
    "    def call(self, inputs):\n",
    "        \n",
    "        x1 = self.f31(inputs)\n",
    "        x1 = self.d31(x1)\n",
    "        x1 = self.d32(x1)\n",
    "        x1 = self.d33(x1)\n",
    "        #x3 = tf.clip_by_value(x3, 1e-2, 1)\n",
    "        \n",
    "        return x1\n",
    "\n",
    "class BasicModel2(tf.keras.Model):\n",
    "\n",
    "    def __init__(self):\n",
    "        super(BasicModel2, self).__init__()\n",
    "        \n",
    "        self.feature_block = FeatureBlock2()\n",
    "        self.dense_block = DenseBlock2()\n",
    "\n",
    "    def call(self, inputs):\n",
    "        \n",
    "        x1 = self.feature_block(inputs)\n",
    "        x2 = self.dense_block(x1)\n",
    "        \n",
    "        return x2"
   ]
  },
  {
   "cell_type": "code",
   "execution_count": null,
   "metadata": {},
   "outputs": [],
   "source": []
  },
  {
   "cell_type": "code",
   "execution_count": 13,
   "metadata": {},
   "outputs": [
    {
     "name": "stdout",
     "output_type": "stream",
     "text": [
      "Model: \"basic_model2_2\"\n",
      "_________________________________________________________________\n",
      "Layer (type)                 Output Shape              Param #   \n",
      "=================================================================\n",
      "feature_block2_2 (FeatureBlo multiple                  46190     \n",
      "_________________________________________________________________\n",
      "dense_block2_2 (DenseBlock2) multiple                  275673    \n",
      "=================================================================\n",
      "Total params: 321,863\n",
      "Trainable params: 321,863\n",
      "Non-trainable params: 0\n",
      "_________________________________________________________________\n"
     ]
    }
   ],
   "source": [
    "model = BasicModel2()\n",
    "optimizer=tf.keras.optimizers.Adam(learning_rate=3e-3)\n",
    "loss=tf.keras.losses.CategoricalCrossentropy()\n",
    "cb1 = SaveLosseAndMetrics()\n",
    "model.compile(optimizer,loss,metrics=['accuracy'])\n",
    "model.build((None, IMG_SIZE, IMG_SIZE, 3))\n",
    "model.summary()"
   ]
  },
  {
   "cell_type": "code",
   "execution_count": 14,
   "metadata": {},
   "outputs": [
    {
     "name": "stdout",
     "output_type": "stream",
     "text": [
      "Train on 33600 samples, validate on 8400 samples\n",
      "Epoch 1/3\n",
      "33600/33600 [==============================] - 29s 861us/sample - loss: 2.6551 - accuracy: 0.7880 - val_loss: 2.3015 - val_accuracy: 0.1124\n",
      "Epoch 2/3\n",
      "33600/33600 [==============================] - 29s 858us/sample - loss: 2.3017 - accuracy: 0.1100 - val_loss: 2.3013 - val_accuracy: 0.1124\n",
      "Epoch 3/3\n",
      "33600/33600 [==============================] - 28s 832us/sample - loss: 2.3017 - accuracy: 0.1110 - val_loss: 2.3017 - val_accuracy: 0.1124\n"
     ]
    }
   ],
   "source": [
    "hist = model.fit(x_tr, y_tr, epochs= 3, validation_data= (x_te, y_te), callbacks=[cb1])"
   ]
  },
  {
   "cell_type": "code",
   "execution_count": 15,
   "metadata": {},
   "outputs": [
    {
     "data": {
      "text/plain": [
       "[<matplotlib.lines.Line2D at 0x7f22dc5ed2b0>]"
      ]
     },
     "execution_count": 15,
     "metadata": {},
     "output_type": "execute_result"
    },
    {
     "data": {
      "image/png": "[encoded data removed]",
      "text/plain": [
       "<Figure size 432x288 with 1 Axes>"
      ]
     },
     "metadata": {
      "needs_background": "light"
     },
     "output_type": "display_data"
    }
   ],
   "source": [
    "plt.plot(np.log(moving_average(cb1.paratha,n=40)))\n",
    "plt.plot(np.log(moving_average(cb1.paratha,n=100)))"
   ]
  },
  {
   "cell_type": "code",
   "execution_count": 24,
   "metadata": {},
   "outputs": [],
   "source": [
    "model.feature_block.save_weights('models/feature_block')"
   ]
  },
  {
   "cell_type": "code",
   "execution_count": null,
   "metadata": {},
   "outputs": [],
   "source": [
    "model.load_weights()"
   ]
  },
  {
   "cell_type": "code",
   "execution_count": null,
   "metadata": {},
   "outputs": [],
   "source": []
  }
 ],
 "metadata": {
  "kernelspec": {
   "display_name": "venv",
   "language": "python",
   "name": "venv"
  },
  "language_info": {
   "codemirror_mode": {
    "name": "ipython",
    "version": 3
   },
   "file_extension": ".py",
   "mimetype": "text/x-python",
   "name": "python",
   "nbconvert_exporter": "python",
   "pygments_lexer": "ipython3",
   "version": "3.6.9"
  }
 },
 "nbformat": 4,
 "nbformat_minor": 4
}
