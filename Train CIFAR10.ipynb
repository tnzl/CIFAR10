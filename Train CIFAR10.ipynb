{
 "cells": [
  {
   "cell_type": "code",
   "execution_count": 1,
   "metadata": {},
   "outputs": [],
   "source": [
    "import sys"
   ]
  },
  {
   "cell_type": "code",
   "execution_count": 5,
   "metadata": {},
   "outputs": [],
   "source": [
    "import numpy as np\n",
    "import tensorflow as tf\n",
    "tf.random.set_seed(1234)\n",
    "import matplotlib.pyplot as plt\n",
    "import cv2"
   ]
  },
  {
   "cell_type": "code",
   "execution_count": 6,
   "metadata": {},
   "outputs": [],
   "source": [
    "from sklearn.preprocessing import OneHotEncoder"
   ]
  },
  {
   "cell_type": "code",
   "execution_count": 7,
   "metadata": {},
   "outputs": [],
   "source": [
    "IMG_SIZE = 32"
   ]
  },
  {
   "cell_type": "code",
   "execution_count": 8,
   "metadata": {},
   "outputs": [
    {
     "data": {
      "text/plain": [
       "0.031547867224009665"
      ]
     },
     "execution_count": 8,
     "metadata": {},
     "output_type": "execute_result"
    }
   ],
   "source": [
    "0.05 * (10**-0.2)"
   ]
  },
  {
   "cell_type": "code",
   "execution_count": 9,
   "metadata": {},
   "outputs": [],
   "source": [
    "# Assemble dataset\n",
    "def get_matrices():\n",
    "    data = []\n",
    "    labels = []\n",
    "    \n",
    "    for i in list(range(1, 6)):\n",
    "        xx, yy = load_batch(i)\n",
    "        xx, yy = preprocess(xx, yy)\n",
    "        data.append(xx)\n",
    "        labels.append(yy)\n",
    "    \n",
    "    x_tr = np.concatenate(data)\n",
    "    y_tr = np.concatenate(labels)\n",
    "\n",
    "    x_te, y_te = load_batch(999, test=True)\n",
    "    x_te, y_te = preprocess(x_te, y_te)\n",
    "\n",
    "    print('x_tr shape: '+ str(x_tr.shape))\n",
    "    print('y_tr shape: '+ str(y_tr.shape))\n",
    "    print('\\nx_tr dtype: '+ str(x_tr.dtype))\n",
    "    print('y_tr dtype: '+ str(y_tr.dtype))\n",
    "    print('\\nx_te shape: '+ str(x_te.shape))\n",
    "    print('y_te shape: '+ str(y_te.shape))\n",
    "    print('\\nx_te dtype: '+ str(x_te.dtype))\n",
    "    print('y_te dtype: '+ str(y_te.dtype))  \n",
    "    \n",
    "    return x_tr, y_tr, x_te, y_te\n",
    "    \n",
    "# Load dataset from memory\n",
    "def load_batch(i, test = False):\n",
    "    def unpickle(file):\n",
    "        import pickle\n",
    "        with open(file, 'rb') as fo:\n",
    "            dict = pickle.load(fo, encoding='bytes')\n",
    "        return dict\n",
    "    \n",
    "    d = {}\n",
    "    if test:\n",
    "        d = unpickle('./cifar-10-batches-py/test_batch')\n",
    "    else:\n",
    "        d = unpickle('./cifar-10-batches-py/data_batch_'+str(i))\n",
    "    \n",
    "    return d[b'data'], d[b'labels']"
   ]
  },
  {
   "cell_type": "code",
   "execution_count": null,
   "metadata": {},
   "outputs": [],
   "source": []
  },
  {
   "cell_type": "code",
   "execution_count": 10,
   "metadata": {},
   "outputs": [],
   "source": [
    "# Pre-process functions here \n",
    "\n",
    "# Assemble pre-processes\n",
    "def preprocess(x, y):\n",
    "    \n",
    "    # ohe\n",
    "    y = OneHotEncoder().fit_transform(np.array(y).reshape(-1,1)).toarray()\n",
    "    \n",
    "    # reshape x\n",
    "    x = x.reshape((x.shape[0], 3, IMG_SIZE, IMG_SIZE)).transpose(0, 2, 3, 1)\n",
    "    \n",
    "    # as float16\n",
    "    x = x.astype('float64')\n",
    "    y = y.astype('float16')\n",
    "    \n",
    "    # normalize\n",
    "    min_val = np.min(x)\n",
    "    max_val = np.max(x)\n",
    "    x = (x-min_val) / (max_val-min_val)\n",
    "    \n",
    "    return x, y"
   ]
  },
  {
   "cell_type": "code",
   "execution_count": null,
   "metadata": {},
   "outputs": [],
   "source": []
  },
  {
   "cell_type": "code",
   "execution_count": 11,
   "metadata": {},
   "outputs": [],
   "source": [
    "# Common functions\n",
    "def moving_average(a, n=3) :\n",
    "    ret = np.cumsum(a, dtype=float)\n",
    "    ret[n:] = ret[n:] - ret[:-n]\n",
    "    return ret[n - 1:] / n\n",
    "\n",
    "def plot_history(hist):\n",
    "    fig=plt.figure()\n",
    "    ax=fig.add_subplot(121)\n",
    "    bx=fig.add_subplot(122)\n",
    "    ax.plot(hist.history['loss'],label='loss')\n",
    "    ax.plot(hist.history['val_loss'],label='val_loss')\n",
    "    ax.set_title('loss')\n",
    "    ax.legend()\n",
    "    bx.plot(hist.history['accuracy'],label='accuracy')\n",
    "    bx.plot(hist.history['val_accuracy'],label='val_accuracy')\n",
    "    bx.set_title('accuracy')\n",
    "    bx.legend()"
   ]
  },
  {
   "cell_type": "code",
   "execution_count": null,
   "metadata": {},
   "outputs": [],
   "source": []
  },
  {
   "cell_type": "code",
   "execution_count": 12,
   "metadata": {},
   "outputs": [
    {
     "ename": "FileNotFoundError",
     "evalue": "[Errno 2] No such file or directory: './cifar-10-batches-py/data_batch_1'",
     "output_type": "error",
     "traceback": [
      "\u001b[0;31m---------------------------------------------------------------------------\u001b[0m",
      "\u001b[0;31mFileNotFoundError\u001b[0m                         Traceback (most recent call last)",
      "\u001b[0;32m<ipython-input-12-f20246831443>\u001b[0m in \u001b[0;36m<module>\u001b[0;34m\u001b[0m\n\u001b[0;32m----> 1\u001b[0;31m \u001b[0mx_tr\u001b[0m\u001b[0;34m,\u001b[0m \u001b[0my_tr\u001b[0m\u001b[0;34m,\u001b[0m \u001b[0mx_te\u001b[0m\u001b[0;34m,\u001b[0m \u001b[0my_te\u001b[0m \u001b[0;34m=\u001b[0m \u001b[0mget_matrices\u001b[0m\u001b[0;34m(\u001b[0m\u001b[0;34m)\u001b[0m\u001b[0;34m\u001b[0m\u001b[0;34m\u001b[0m\u001b[0m\n\u001b[0m",
      "\u001b[0;32m<ipython-input-9-94be01c8ca48>\u001b[0m in \u001b[0;36mget_matrices\u001b[0;34m()\u001b[0m\n\u001b[1;32m      5\u001b[0m \u001b[0;34m\u001b[0m\u001b[0m\n\u001b[1;32m      6\u001b[0m     \u001b[0;32mfor\u001b[0m \u001b[0mi\u001b[0m \u001b[0;32min\u001b[0m \u001b[0mlist\u001b[0m\u001b[0;34m(\u001b[0m\u001b[0mrange\u001b[0m\u001b[0;34m(\u001b[0m\u001b[0;36m1\u001b[0m\u001b[0;34m,\u001b[0m \u001b[0;36m6\u001b[0m\u001b[0;34m)\u001b[0m\u001b[0;34m)\u001b[0m\u001b[0;34m:\u001b[0m\u001b[0;34m\u001b[0m\u001b[0;34m\u001b[0m\u001b[0m\n\u001b[0;32m----> 7\u001b[0;31m         \u001b[0mxx\u001b[0m\u001b[0;34m,\u001b[0m \u001b[0myy\u001b[0m \u001b[0;34m=\u001b[0m \u001b[0mload_batch\u001b[0m\u001b[0;34m(\u001b[0m\u001b[0mi\u001b[0m\u001b[0;34m)\u001b[0m\u001b[0;34m\u001b[0m\u001b[0;34m\u001b[0m\u001b[0m\n\u001b[0m\u001b[1;32m      8\u001b[0m         \u001b[0mxx\u001b[0m\u001b[0;34m,\u001b[0m \u001b[0myy\u001b[0m \u001b[0;34m=\u001b[0m \u001b[0mpreprocess\u001b[0m\u001b[0;34m(\u001b[0m\u001b[0mxx\u001b[0m\u001b[0;34m,\u001b[0m \u001b[0myy\u001b[0m\u001b[0;34m)\u001b[0m\u001b[0;34m\u001b[0m\u001b[0;34m\u001b[0m\u001b[0m\n\u001b[1;32m      9\u001b[0m         \u001b[0mdata\u001b[0m\u001b[0;34m.\u001b[0m\u001b[0mappend\u001b[0m\u001b[0;34m(\u001b[0m\u001b[0mxx\u001b[0m\u001b[0;34m)\u001b[0m\u001b[0;34m\u001b[0m\u001b[0;34m\u001b[0m\u001b[0m\n",
      "\u001b[0;32m<ipython-input-9-94be01c8ca48>\u001b[0m in \u001b[0;36mload_batch\u001b[0;34m(i, test)\u001b[0m\n\u001b[1;32m     39\u001b[0m         \u001b[0md\u001b[0m \u001b[0;34m=\u001b[0m \u001b[0munpickle\u001b[0m\u001b[0;34m(\u001b[0m\u001b[0;34m'./cifar-10-batches-py/test_batch'\u001b[0m\u001b[0;34m)\u001b[0m\u001b[0;34m\u001b[0m\u001b[0;34m\u001b[0m\u001b[0m\n\u001b[1;32m     40\u001b[0m     \u001b[0;32melse\u001b[0m\u001b[0;34m:\u001b[0m\u001b[0;34m\u001b[0m\u001b[0;34m\u001b[0m\u001b[0m\n\u001b[0;32m---> 41\u001b[0;31m         \u001b[0md\u001b[0m \u001b[0;34m=\u001b[0m \u001b[0munpickle\u001b[0m\u001b[0;34m(\u001b[0m\u001b[0;34m'./cifar-10-batches-py/data_batch_'\u001b[0m\u001b[0;34m+\u001b[0m\u001b[0mstr\u001b[0m\u001b[0;34m(\u001b[0m\u001b[0mi\u001b[0m\u001b[0;34m)\u001b[0m\u001b[0;34m)\u001b[0m\u001b[0;34m\u001b[0m\u001b[0;34m\u001b[0m\u001b[0m\n\u001b[0m\u001b[1;32m     42\u001b[0m \u001b[0;34m\u001b[0m\u001b[0m\n\u001b[1;32m     43\u001b[0m     \u001b[0;32mreturn\u001b[0m \u001b[0md\u001b[0m\u001b[0;34m[\u001b[0m\u001b[0;34mb'data'\u001b[0m\u001b[0;34m]\u001b[0m\u001b[0;34m,\u001b[0m \u001b[0md\u001b[0m\u001b[0;34m[\u001b[0m\u001b[0;34mb'labels'\u001b[0m\u001b[0;34m]\u001b[0m\u001b[0;34m\u001b[0m\u001b[0;34m\u001b[0m\u001b[0m\n",
      "\u001b[0;32m<ipython-input-9-94be01c8ca48>\u001b[0m in \u001b[0;36munpickle\u001b[0;34m(file)\u001b[0m\n\u001b[1;32m     31\u001b[0m     \u001b[0;32mdef\u001b[0m \u001b[0munpickle\u001b[0m\u001b[0;34m(\u001b[0m\u001b[0mfile\u001b[0m\u001b[0;34m)\u001b[0m\u001b[0;34m:\u001b[0m\u001b[0;34m\u001b[0m\u001b[0;34m\u001b[0m\u001b[0m\n\u001b[1;32m     32\u001b[0m         \u001b[0;32mimport\u001b[0m \u001b[0mpickle\u001b[0m\u001b[0;34m\u001b[0m\u001b[0;34m\u001b[0m\u001b[0m\n\u001b[0;32m---> 33\u001b[0;31m         \u001b[0;32mwith\u001b[0m \u001b[0mopen\u001b[0m\u001b[0;34m(\u001b[0m\u001b[0mfile\u001b[0m\u001b[0;34m,\u001b[0m \u001b[0;34m'rb'\u001b[0m\u001b[0;34m)\u001b[0m \u001b[0;32mas\u001b[0m \u001b[0mfo\u001b[0m\u001b[0;34m:\u001b[0m\u001b[0;34m\u001b[0m\u001b[0;34m\u001b[0m\u001b[0m\n\u001b[0m\u001b[1;32m     34\u001b[0m             \u001b[0mdict\u001b[0m \u001b[0;34m=\u001b[0m \u001b[0mpickle\u001b[0m\u001b[0;34m.\u001b[0m\u001b[0mload\u001b[0m\u001b[0;34m(\u001b[0m\u001b[0mfo\u001b[0m\u001b[0;34m,\u001b[0m \u001b[0mencoding\u001b[0m\u001b[0;34m=\u001b[0m\u001b[0;34m'bytes'\u001b[0m\u001b[0;34m)\u001b[0m\u001b[0;34m\u001b[0m\u001b[0;34m\u001b[0m\u001b[0m\n\u001b[1;32m     35\u001b[0m         \u001b[0;32mreturn\u001b[0m \u001b[0mdict\u001b[0m\u001b[0;34m\u001b[0m\u001b[0;34m\u001b[0m\u001b[0m\n",
      "\u001b[0;31mFileNotFoundError\u001b[0m: [Errno 2] No such file or directory: './cifar-10-batches-py/data_batch_1'"
     ]
    }
   ],
   "source": [
    "x_tr, y_tr, x_te, y_te = get_matrices()"
   ]
  },
  {
   "cell_type": "code",
   "execution_count": 13,
   "metadata": {},
   "outputs": [
    {
     "ename": "NameError",
     "evalue": "name 'x_tr' is not defined",
     "output_type": "error",
     "traceback": [
      "\u001b[0;31m---------------------------------------------------------------------------\u001b[0m",
      "\u001b[0;31mNameError\u001b[0m                                 Traceback (most recent call last)",
      "\u001b[0;32m<ipython-input-13-19cfbb5c0f40>\u001b[0m in \u001b[0;36m<module>\u001b[0;34m\u001b[0m\n\u001b[1;32m      1\u001b[0m \u001b[0mind\u001b[0m \u001b[0;34m=\u001b[0m \u001b[0mnp\u001b[0m\u001b[0;34m.\u001b[0m\u001b[0mrandom\u001b[0m\u001b[0;34m.\u001b[0m\u001b[0mrandint\u001b[0m\u001b[0;34m(\u001b[0m\u001b[0;36m0\u001b[0m\u001b[0;34m,\u001b[0m\u001b[0;36m50000\u001b[0m\u001b[0;34m)\u001b[0m\u001b[0;34m\u001b[0m\u001b[0;34m\u001b[0m\u001b[0m\n\u001b[0;32m----> 2\u001b[0;31m \u001b[0mplt\u001b[0m\u001b[0;34m.\u001b[0m\u001b[0mimshow\u001b[0m\u001b[0;34m(\u001b[0m\u001b[0;34m(\u001b[0m\u001b[0;36m255\u001b[0m\u001b[0;34m*\u001b[0m\u001b[0mx_tr\u001b[0m\u001b[0;34m[\u001b[0m\u001b[0mind\u001b[0m\u001b[0;34m]\u001b[0m\u001b[0;34m)\u001b[0m\u001b[0;34m.\u001b[0m\u001b[0mastype\u001b[0m\u001b[0;34m(\u001b[0m\u001b[0;34m'int'\u001b[0m\u001b[0;34m)\u001b[0m\u001b[0;34m)\u001b[0m\u001b[0;34m\u001b[0m\u001b[0;34m\u001b[0m\u001b[0m\n\u001b[0m\u001b[1;32m      3\u001b[0m \u001b[0mplt\u001b[0m \u001b[0;34m.\u001b[0m\u001b[0mtitle\u001b[0m\u001b[0;34m(\u001b[0m\u001b[0my_tr\u001b[0m\u001b[0;34m[\u001b[0m\u001b[0mind\u001b[0m\u001b[0;34m]\u001b[0m\u001b[0;34m.\u001b[0m\u001b[0margmax\u001b[0m\u001b[0;34m(\u001b[0m\u001b[0;34m)\u001b[0m\u001b[0;34m)\u001b[0m\u001b[0;34m\u001b[0m\u001b[0;34m\u001b[0m\u001b[0m\n",
      "\u001b[0;31mNameError\u001b[0m: name 'x_tr' is not defined"
     ]
    }
   ],
   "source": [
    "ind = np.random.randint(0,50000)\n",
    "plt.imshow((255*x_tr[ind]).astype('int'))\n",
    "plt .title(y_tr[ind].argmax())"
   ]
  },
  {
   "cell_type": "code",
   "execution_count": null,
   "metadata": {
    "slideshow": {
     "slide_type": "fragment"
    }
   },
   "outputs": [],
   "source": []
  },
  {
   "cell_type": "markdown",
   "metadata": {},
   "source": [
    "### Callbacks"
   ]
  },
  {
   "cell_type": "code",
   "execution_count": 14,
   "metadata": {},
   "outputs": [],
   "source": [
    "class SaveLosseAndMetrics(tf.keras.callbacks.Callback):\n",
    "    \n",
    "    def __init__(self, batch_interval=5):\n",
    "        super(SaveLosseAndMetrics, self).__init__()\n",
    "        self.batch_interval = batch_interval\n",
    "        self.record = {}\n",
    "        self.keys = ['loss']\n",
    "    \n",
    "    def on_train_begin(self, logs=None):\n",
    "        self.keys += self.model.metrics_names\n",
    "        \n",
    "        for key in self.keys:\n",
    "            self.record[key] = []\n",
    "            \n",
    "    def on_train_batch_end(self, batch, logs=None):\n",
    "\n",
    "        if batch % self.batch_interval:\n",
    "            for key in self.keys:\n",
    "                self.record[key].append(logs[key])"
   ]
  },
  {
   "cell_type": "code",
   "execution_count": 15,
   "metadata": {},
   "outputs": [],
   "source": [
    "class SaveBestModel(tf.keras.callbacks.Callback):\n",
    "    \n",
    "    def __init__(self):\n",
    "        super(SaveBestModel, self).__init__()\n",
    "        \n",
    "        self.paratha = []\n",
    "    \n",
    "    def on_train_batch_end(self, batch, logs=None):\n",
    "        keys = list(logs.keys())\n",
    "        self.paratha.append(logs['loss'])"
   ]
  },
  {
   "cell_type": "code",
   "execution_count": null,
   "metadata": {},
   "outputs": [],
   "source": []
  },
  {
   "cell_type": "markdown",
   "metadata": {},
   "source": [
    "### Attempt 1"
   ]
  },
  {
   "cell_type": "code",
   "execution_count": 11,
   "metadata": {},
   "outputs": [],
   "source": [
    "model = tf.keras.Sequential([\n",
    "    tf.keras.layers.Conv2D(16,(3,3)),\n",
    "    tf.keras.layers.Conv2D(16, (1,1)),\n",
    "    tf.keras.layers.Flatten(),\n",
    "    tf.keras.layers.Dense(128, activation= tf.keras.activations.relu),\n",
    "    tf.keras.layers.Dense(10, activation= tf.keras.activations.softmax)\n",
    "])"
   ]
  },
  {
   "cell_type": "code",
   "execution_count": 12,
   "metadata": {},
   "outputs": [],
   "source": [
    "model.compile(optimizer=tf.keras.optimizers.RMSprop(0.01),\n",
    "              loss=tf.keras.losses.CategoricalCrossentropy(),\n",
    "              metrics=['accuracy'])"
   ]
  },
  {
   "cell_type": "code",
   "execution_count": 88,
   "metadata": {},
   "outputs": [
    {
     "name": "stdout",
     "output_type": "stream",
     "text": [
      "Train on 40000 samples, validate on 10000 samples\n",
      "Epoch 1/3\n",
      "40000/40000 [==============================] - 22s 545us/sample - loss: 4.0366 - accuracy: 0.0969 - val_loss: 2.3041 - val_accuracy: 0.0997\n",
      "Epoch 2/3\n",
      "40000/40000 [==============================] - 25s 613us/sample - loss: 2.3039 - accuracy: 0.0994 - val_loss: 2.3034 - val_accuracy: 0.1025\n",
      "Epoch 3/3\n",
      "40000/40000 [==============================] - 26s 655us/sample - loss: 2.3039 - accuracy: 0.0990 - val_loss: 2.3035 - val_accuracy: 0.0977\n"
     ]
    },
    {
     "data": {
      "text/plain": [
       "<tensorflow.python.keras.callbacks.History at 0x7f80b01c6080>"
      ]
     },
     "execution_count": 88,
     "metadata": {},
     "output_type": "execute_result"
    }
   ],
   "source": [
    "model.fit(x, y, epochs=3, validation_split=0.2)"
   ]
  },
  {
   "cell_type": "code",
   "execution_count": null,
   "metadata": {},
   "outputs": [],
   "source": []
  },
  {
   "cell_type": "markdown",
   "metadata": {},
   "source": [
    "### Attempt 2"
   ]
  },
  {
   "cell_type": "code",
   "execution_count": 16,
   "metadata": {},
   "outputs": [],
   "source": [
    "class FeatureBlock2(tf.keras.Model):\n",
    "\n",
    "    def __init__(self):\n",
    "        super(FeatureBlock2, self).__init__()\n",
    "        \n",
    "        # Block 1\n",
    "        self.c11  = tf.keras.layers.Conv2D(35, (3,3))\n",
    "        self.c12  = tf.keras.layers.Conv2D(40, (3,3))\n",
    "        self.m11 = tf.keras.layers.MaxPool2D()\n",
    "        self.c13  = tf.keras.layers.Conv2D(40, (1,1))\n",
    "        \n",
    "        # Block 2\n",
    "        self.c21 = tf.keras.layers.Conv2D(40, (3,3))\n",
    "        self.c22 = tf.keras.layers.Conv2D(40, (3,3))\n",
    "        self.m21 = tf.keras.layers.MaxPool2D()\n",
    "        self.c23  = tf.keras.layers.Conv2D(50, (1,1))\n",
    "\n",
    "    def call(self, inputs):\n",
    "        \n",
    "        # Block 1\n",
    "        x1 = self.c11(inputs)\n",
    "        x1 = self.c12(x1)\n",
    "        x1 = self.m11(x1)\n",
    "        x1 = self.c13(x1)\n",
    "        \n",
    "        # Block 2\n",
    "        x2 = tf.keras.layers.ZeroPadding2D(padding=1)(x1)\n",
    "        x2 = self.c21(x2)\n",
    "        x2 = tf.keras.layers.ZeroPadding2D(padding=1)(x2)\n",
    "        x2 = self.c22(x2)     \n",
    "        x2 = self.m21(x2)\n",
    "        x2 = self.c23(x2)\n",
    "        \n",
    "        return x2\n",
    "\n",
    "class DenseBlock2(tf.keras.Model):\n",
    "\n",
    "    def __init__(self):\n",
    "        super(DenseBlock2, self).__init__()\n",
    "        \n",
    "        self.f31 = tf.keras.layers.Flatten()\n",
    "        self.d31 = tf.keras.layers.Dense(146, activation= tf.keras.activations.relu)\n",
    "        self.d32 = tf.keras.layers.Dense(81, activation= tf.keras.activations.relu)\n",
    "        self.d33 = tf.keras.layers.Dense(10, activation= tf.keras.activations.softmax)\n",
    "\n",
    "    def call(self, inputs):\n",
    "        \n",
    "        x1 = self.f31(inputs)\n",
    "        x1 = self.d31(x1)\n",
    "        x1 = self.d32(x1)\n",
    "        x1 = self.d33(x1)\n",
    "        #x3 = tf.clip_by_value(x3, 1e-2, 1)\n",
    "        \n",
    "        return x1\n",
    "\n",
    "class BasicModel2(tf.keras.Model):\n",
    "\n",
    "    def __init__(self):\n",
    "        super(BasicModel2, self).__init__()\n",
    "        \n",
    "        self.feature_block = FeatureBlock2()\n",
    "        self.dense_block = DenseBlock2()\n",
    "\n",
    "    def call(self, inputs):\n",
    "        \n",
    "        x1 = self.feature_block(inputs)\n",
    "        x2 = self.dense_block(x1)\n",
    "        \n",
    "        return x2"
   ]
  },
  {
   "cell_type": "code",
   "execution_count": 17,
   "metadata": {},
   "outputs": [
    {
     "name": "stdout",
     "output_type": "stream",
     "text": [
      "Model: \"basic_model2\"\n",
      "_________________________________________________________________\n",
      "Layer (type)                 Output Shape              Param #   \n",
      "=================================================================\n",
      "feature_block2 (FeatureBlock multiple                  46190     \n",
      "_________________________________________________________________\n",
      "dense_block2 (DenseBlock2)   multiple                  370573    \n",
      "=================================================================\n",
      "Total params: 416,763\n",
      "Trainable params: 416,763\n",
      "Non-trainable params: 0\n",
      "_________________________________________________________________\n"
     ]
    }
   ],
   "source": [
    "model = BasicModel2()\n",
    "optimizer=tf.keras.optimizers.Adam(learning_rate=3e-3)\n",
    "loss=tf.keras.losses.CategoricalCrossentropy()\n",
    "cb1 = SaveLosseAndMetrics()\n",
    "model.compile(optimizer,loss,metrics=['accuracy'])\n",
    "model.build((None, IMG_SIZE, IMG_SIZE, 3))\n",
    "model.summary()"
   ]
  },
  {
   "cell_type": "code",
   "execution_count": 18,
   "metadata": {},
   "outputs": [
    {
     "name": "stdout",
     "output_type": "stream",
     "text": [
      "Model: \"basic_model2\"\n",
      "_________________________________________________________________\n",
      "Layer (type)                 Output Shape              Param #   \n",
      "=================================================================\n",
      "feature_block2 (FeatureBlock multiple                  46190     \n",
      "_________________________________________________________________\n",
      "dense_block2 (DenseBlock2)   multiple                  370573    \n",
      "=================================================================\n",
      "Total params: 416,763\n",
      "Trainable params: 416,763\n",
      "Non-trainable params: 0\n",
      "_________________________________________________________________\n",
      "None\n"
     ]
    }
   ],
   "source": [
    "print(model.summary())"
   ]
  },
  {
   "cell_type": "code",
   "execution_count": 21,
   "metadata": {},
   "outputs": [
    {
     "name": "stdout",
     "output_type": "stream",
     "text": [
      "Train on 50000 samples, validate on 10000 samples\n",
      "Epoch 1/9\n",
      "50000/50000 [==============================] - 57s 1ms/sample - loss: 1.4980 - accuracy: 0.4667 - val_loss: 1.2730 - val_accuracy: 0.5530\n",
      "Epoch 2/9\n",
      "50000/50000 [==============================] - 53s 1ms/sample - loss: 1.1670 - accuracy: 0.5989 - val_loss: 1.1040 - val_accuracy: 0.6276\n",
      "Epoch 3/9\n",
      "50000/50000 [==============================] - 54s 1ms/sample - loss: 1.0693 - accuracy: 0.6321 - val_loss: 1.1229 - val_accuracy: 0.6140\n",
      "Epoch 4/9\n",
      "50000/50000 [==============================] - 54s 1ms/sample - loss: 1.0048 - accuracy: 0.6587 - val_loss: 1.0964 - val_accuracy: 0.6412\n",
      "Epoch 5/9\n",
      "50000/50000 [==============================] - 55s 1ms/sample - loss: 0.9560 - accuracy: 0.6776 - val_loss: 1.1294 - val_accuracy: 0.6309\n",
      "Epoch 6/9\n",
      "50000/50000 [==============================] - 54s 1ms/sample - loss: 0.9254 - accuracy: 0.6899 - val_loss: 1.1056 - val_accuracy: 0.6339\n",
      "Epoch 7/9\n",
      "50000/50000 [==============================] - 54s 1ms/sample - loss: 0.8927 - accuracy: 0.7014 - val_loss: 1.0844 - val_accuracy: 0.6459\n",
      "Epoch 8/9\n",
      "50000/50000 [==============================] - 54s 1ms/sample - loss: 0.8349 - accuracy: 0.7231 - val_loss: 1.1361 - val_accuracy: 0.6600\n",
      "Epoch 9/9\n",
      "50000/50000 [==============================] - 54s 1ms/sample - loss: 0.7960 - accuracy: 0.7360 - val_loss: 1.2340 - val_accuracy: 0.6207\n"
     ]
    }
   ],
   "source": [
    "hist = model.fit(x_tr, y_tr, epochs= 9\n",
    "                 , validation_data= (x_te, y_te), callbacks=[cb1])"
   ]
  },
  {
   "cell_type": "code",
   "execution_count": 25,
   "metadata": {},
   "outputs": [
    {
     "data": {
      "text/plain": [
       "[<matplotlib.lines.Line2D at 0x7f413b0d3f60>]"
      ]
     },
     "execution_count": 25,
     "metadata": {},
     "output_type": "execute_result"
    },
    {
     "data": {
      "image/png": "[encoded data removed]",
      "text/plain": [
       "<Figure size 432x288 with 1 Axes>"
      ]
     },
     "metadata": {
      "needs_background": "light"
     },
     "output_type": "display_data"
    }
   ],
   "source": [
    "plt.plot(moving_average(cb1.record['loss'],n=40))\n",
    "plt.plot(moving_average(cb1.record['loss'],n=300))"
   ]
  },
  {
   "cell_type": "code",
   "execution_count": 24,
   "metadata": {},
   "outputs": [
    {
     "data": {
      "image/png": "[encoded data removed]",
      "text/plain": [
       "<Figure size 432x288 with 2 Axes>"
      ]
     },
     "metadata": {
      "needs_background": "light"
     },
     "output_type": "display_data"
    }
   ],
   "source": [
    "plot_history(hist)"
   ]
  },
  {
   "cell_type": "code",
   "execution_count": null,
   "metadata": {},
   "outputs": [],
   "source": []
  },
  {
   "cell_type": "markdown",
   "metadata": {},
   "source": [
    "### Attempt 2"
   ]
  },
  {
   "cell_type": "code",
   "execution_count": 1,
   "metadata": {},
   "outputs": [],
   "source": [
    "BATCH_SIZE = 100\n",
    "NUM_CLASSES = 100\n",
    "EPOCHS = 7\n",
    "INIT_DROPOUT_RATE = 0.5\n",
    "MOMENTUM_RATE = 0.9\n",
    "INIT_LEARNING_RATE = 0.01\n",
    "L2_DECAY_RATE = 0.0005\n",
    "CROP_SIZE = 32"
   ]
  },
  {
   "cell_type": "code",
   "execution_count": 2,
   "metadata": {
    "jupyter": {
     "source_hidden": true
    }
   },
   "outputs": [
    {
     "ename": "NameError",
     "evalue": "name 'tf' is not defined",
     "output_type": "error",
     "traceback": [
      "\u001b[0;31m---------------------------------------------------------------------------\u001b[0m",
      "\u001b[0;31mNameError\u001b[0m                                 Traceback (most recent call last)",
      "\u001b[0;32m<ipython-input-2-b1b0b8f4bce2>\u001b[0m in \u001b[0;36m<module>\u001b[0;34m\u001b[0m\n\u001b[0;32m----> 1\u001b[0;31m \u001b[0;32mclass\u001b[0m \u001b[0mFeatureBlock2\u001b[0m\u001b[0;34m(\u001b[0m\u001b[0mtf\u001b[0m\u001b[0;34m.\u001b[0m\u001b[0mkeras\u001b[0m\u001b[0;34m.\u001b[0m\u001b[0mModel\u001b[0m\u001b[0;34m)\u001b[0m\u001b[0;34m:\u001b[0m\u001b[0;34m\u001b[0m\u001b[0;34m\u001b[0m\u001b[0m\n\u001b[0m\u001b[1;32m      2\u001b[0m \u001b[0;34m\u001b[0m\u001b[0m\n\u001b[1;32m      3\u001b[0m     \u001b[0;32mdef\u001b[0m \u001b[0m__init__\u001b[0m\u001b[0;34m(\u001b[0m\u001b[0mself\u001b[0m\u001b[0;34m)\u001b[0m\u001b[0;34m:\u001b[0m\u001b[0;34m\u001b[0m\u001b[0;34m\u001b[0m\u001b[0m\n\u001b[1;32m      4\u001b[0m         \u001b[0msuper\u001b[0m\u001b[0;34m(\u001b[0m\u001b[0mFeatureBlock2\u001b[0m\u001b[0;34m,\u001b[0m \u001b[0mself\u001b[0m\u001b[0;34m)\u001b[0m\u001b[0;34m.\u001b[0m\u001b[0m__init__\u001b[0m\u001b[0;34m(\u001b[0m\u001b[0;34m)\u001b[0m\u001b[0;34m\u001b[0m\u001b[0;34m\u001b[0m\u001b[0m\n\u001b[1;32m      5\u001b[0m \u001b[0;34m\u001b[0m\u001b[0m\n",
      "\u001b[0;31mNameError\u001b[0m: name 'tf' is not defined"
     ]
    }
   ],
   "source": [
    "class FeatureBlock2(tf.keras.Model):\n",
    "\n",
    "    def __init__(self):\n",
    "        super(FeatureBlock2, self).__init__()\n",
    "        \n",
    "        # Block 1\n",
    "        self.c11  = tf.keras.layers.Conv2D(96, \n",
    "                                           (3,3), \n",
    "                                           padding='same', \n",
    "                                           kernel_regularizer=tf.keras.regularizers.l2(L2_DECAY_RATE), \n",
    "                                           activation = tf.keras.activations.elu)\n",
    "        self.c12  = tf.keras.layers.Conv2D(96, \n",
    "                                           (3,3), \n",
    "                                           padding='same', \n",
    "                                           kernel_regularizer=tf.keras.regularizers.l2(L2_DECAY_RATE), \n",
    "                                           activation = tf.keras.activations.elu)\n",
    "        self.m11 = tf.keras.layers.MaxPool2D(pool_size=(2,2), padding='same')\n",
    "        self.dr11 = tf.keras.layers.Dropout(INIT_DROPOUT_RATE)\n",
    "        \n",
    "        # Block 2\n",
    "        self.c21  = tf.keras.layers.Conv2D(96, \n",
    "                                           (1,1), \n",
    "                                           padding='same', \n",
    "                                           kernel_regularizer=tf.keras.regularizers.l2(L2_DECAY_RATE), \n",
    "                                           activation = tf.keras.activations.elu)\n",
    "        self.c22  = tf.keras.layers.Conv2D(96, \n",
    "                                           (2,2), \n",
    "                                           padding='same', \n",
    "                                           kernel_regularizer=tf.keras.regularizers.l2(L2_DECAY_RATE), \n",
    "                                           activation = tf.keras.activations.elu)\n",
    "        self.c23  = tf.keras.layers.Conv2D(96, \n",
    "                                           (2,2), \n",
    "                                           padding='same', \n",
    "                                           kernel_regularizer=tf.keras.regularizers.l2(L2_DECAY_RATE), \n",
    "                                           activation = tf.keras.activations.elu)\n",
    "        self.m21 = tf.keras.layers.MaxPool2D(pool_size=(2,2), padding='same')\n",
    "        self.dr21 = tf.keras.layers.Dropout(INIT_DROPOUT_RATE)\n",
    "        \n",
    "        # Block 3\n",
    "        self.c31  = tf.keras.layers.Conv2D(168, \n",
    "                                           (1,1), \n",
    "                                           padding='same', \n",
    "                                           kernel_regularizer=tf.keras.regularizers.l2(L2_DECAY_RATE), \n",
    "                                           activation = tf.keras.activations.elu)\n",
    "        self.c32  = tf.keras.layers.Conv2D(168, \n",
    "                                           (2,2), \n",
    "                                           padding='same', \n",
    "                                           kernel_regularizer=tf.keras.regularizers.l2(L2_DECAY_RATE), \n",
    "                                           activation = tf.keras.activations.elu)\n",
    "        self.c33  = tf.keras.layers.Conv2D(168, \n",
    "                                           (2,2), \n",
    "                                           padding='same', \n",
    "                                           kernel_regularizer=tf.keras.regularizers.l2(L2_DECAY_RATE), \n",
    "                                           activation = tf.keras.activations.elu)\n",
    "        self.m31 = tf.keras.layers.MaxPool2D(pool_size=(2,2), padding='same')\n",
    "        self.dr31 = tf.keras.layers.Dropout(INIT_DROPOUT_RATE)\n",
    "        \n",
    "        # Block 4 \n",
    "        self.c41  = tf.keras.layers.Conv2D(168, \n",
    "                                           (1,1), \n",
    "                                           padding='same', \n",
    "                                           kernel_regularizer=tf.keras.regularizers.l2(L2_DECAY_RATE), \n",
    "                                           activation = tf.keras.activations.elu)\n",
    "        self.c42  = tf.keras.layers.Conv2D(168, \n",
    "                                           (2,2), \n",
    "                                           padding='same', \n",
    "                                           kernel_regularizer=tf.keras.regularizers.l2(L2_DECAY_RATE), \n",
    "                                           activation = tf.keras.activations.elu)\n",
    "        self.c43  = tf.keras.layers.Conv2D(168, \n",
    "                                           (2,2), \n",
    "                                           padding='same', \n",
    "                                           kernel_regularizer=tf.keras.regularizers.l2(L2_DECAY_RATE), \n",
    "                                           activation = tf.keras.activations.elu)\n",
    "        self.m41 = tf.keras.layers.MaxPool2D(pool_size=(2,2), padding='same')\n",
    "        self.dr41 = tf.keras.layers.Dropout(INIT_DROPOUT_RATE)\n",
    "        \n",
    "    def call(self, inputs):\n",
    "        \n",
    "        # Block 1\n",
    "        x1 = self.c11(inputs)\n",
    "        x1 = self.c12(x1)\n",
    "        x1 = self.m11(x1)\n",
    "        x1 = self.dr11(x1)\n",
    "        \n",
    "        # Block 2\n",
    "        x2 = self.c21(x1)\n",
    "        x2 = self.c22(x2)\n",
    "        x2 = self.c23(x2)\n",
    "        x2 = self.m21(x2)\n",
    "        x2 = self.dr21(x2)\n",
    "        \n",
    "        # Block 3\n",
    "        x3 = self.c31(x2)\n",
    "        x3 = self.c32(x3)\n",
    "        x3 = self.c33(x3)\n",
    "        x3 = self.m31(x3)\n",
    "        x3 = self.dr31(x3)\n",
    "        \n",
    "        # Block 4\n",
    "        x4 = self.c41(x3)\n",
    "        x4 = self.c42(x4)\n",
    "        x4 = self.c43(x4)\n",
    "        x4 = self.m41(x4)\n",
    "        x4 = self.dr41(x4)\n",
    "        \n",
    "        return x4\n",
    "\n",
    "class DenseBlock2(tf.keras.Model):\n",
    "\n",
    "    def __init__(self):\n",
    "        super(DenseBlock2, self).__init__()\n",
    "        \n",
    "        self.f31 = tf.keras.layers.Flatten()\n",
    "        self.d31 = tf.keras.layers.Dense(200, activation= tf.keras.activations.relu)\n",
    "        self.d32 = tf.keras.layers.Dense(100, activation= tf.keras.activations.softmax)\n",
    "\n",
    "    def call(self, inputs):\n",
    "        \n",
    "        x1 = self.f31(inputs)\n",
    "        x1 = self.d31(x1)\n",
    "        x1 = self.d32(x1)\n",
    "        \n",
    "        return x1\n",
    "\n",
    "class BasicModel2(tf.keras.Model):\n",
    "\n",
    "    def __init__(self):\n",
    "        super(BasicModel2, self).__init__()\n",
    "        \n",
    "        self.feature_block = FeatureBlock2()\n",
    "        self.dense_block = DenseBlock2()\n",
    "\n",
    "    def call(self, inputs):\n",
    "        \n",
    "        x1 = self.feature_block(inputs)\n",
    "        x2 = self.dense_block(x1)\n",
    "        \n",
    "        return x2"
   ]
  },
  {
   "cell_type": "code",
   "execution_count": 3,
   "metadata": {},
   "outputs": [
    {
     "ename": "NameError",
     "evalue": "name 'BasicModel2' is not defined",
     "output_type": "error",
     "traceback": [
      "\u001b[0;31m---------------------------------------------------------------------------\u001b[0m",
      "\u001b[0;31mNameError\u001b[0m                                 Traceback (most recent call last)",
      "\u001b[0;32m<ipython-input-3-cb68399d5ad9>\u001b[0m in \u001b[0;36m<module>\u001b[0;34m\u001b[0m\n\u001b[0;32m----> 1\u001b[0;31m \u001b[0mmodel\u001b[0m \u001b[0;34m=\u001b[0m \u001b[0mBasicModel2\u001b[0m\u001b[0;34m(\u001b[0m\u001b[0;34m)\u001b[0m\u001b[0;34m\u001b[0m\u001b[0;34m\u001b[0m\u001b[0m\n\u001b[0m\u001b[1;32m      2\u001b[0m \u001b[0moptimizer\u001b[0m\u001b[0;34m=\u001b[0m\u001b[0mtf\u001b[0m\u001b[0;34m.\u001b[0m\u001b[0mkeras\u001b[0m\u001b[0;34m.\u001b[0m\u001b[0moptimizers\u001b[0m\u001b[0;34m.\u001b[0m\u001b[0mSGD\u001b[0m\u001b[0;34m(\u001b[0m\u001b[0mlr\u001b[0m\u001b[0;34m=\u001b[0m\u001b[0mINIT_LEARNING_RATE\u001b[0m\u001b[0;34m,\u001b[0m \u001b[0mmomentum\u001b[0m\u001b[0;34m=\u001b[0m\u001b[0mMOMENTUM_RATE\u001b[0m\u001b[0;34m)\u001b[0m\u001b[0;34m\u001b[0m\u001b[0;34m\u001b[0m\u001b[0m\n\u001b[1;32m      3\u001b[0m \u001b[0mloss\u001b[0m\u001b[0;34m=\u001b[0m\u001b[0mtf\u001b[0m\u001b[0;34m.\u001b[0m\u001b[0mkeras\u001b[0m\u001b[0;34m.\u001b[0m\u001b[0mlosses\u001b[0m\u001b[0;34m.\u001b[0m\u001b[0mCategoricalCrossentropy\u001b[0m\u001b[0;34m(\u001b[0m\u001b[0;34m)\u001b[0m\u001b[0;34m\u001b[0m\u001b[0;34m\u001b[0m\u001b[0m\n\u001b[1;32m      4\u001b[0m \u001b[0mcb1\u001b[0m \u001b[0;34m=\u001b[0m \u001b[0mSaveLosseAndMetrics\u001b[0m\u001b[0;34m(\u001b[0m\u001b[0;34m)\u001b[0m\u001b[0;34m\u001b[0m\u001b[0;34m\u001b[0m\u001b[0m\n\u001b[1;32m      5\u001b[0m \u001b[0mmodel\u001b[0m\u001b[0;34m.\u001b[0m\u001b[0mcompile\u001b[0m\u001b[0;34m(\u001b[0m\u001b[0moptimizer\u001b[0m\u001b[0;34m,\u001b[0m\u001b[0mloss\u001b[0m\u001b[0;34m,\u001b[0m\u001b[0mmetrics\u001b[0m\u001b[0;34m=\u001b[0m\u001b[0;34m[\u001b[0m\u001b[0;34m'accuracy'\u001b[0m\u001b[0;34m]\u001b[0m\u001b[0;34m)\u001b[0m\u001b[0;34m\u001b[0m\u001b[0;34m\u001b[0m\u001b[0m\n",
      "\u001b[0;31mNameError\u001b[0m: name 'BasicModel2' is not defined"
     ]
    }
   ],
   "source": [
    "model = BasicModel2()\n",
    "optimizer=tf.keras.optimizers.SGD(lr=INIT_LEARNING_RATE, momentum=MOMENTUM_RATE)\n",
    "loss=tf.keras.losses.CategoricalCrossentropy()\n",
    "cb1 = SaveLosseAndMetrics()\n",
    "model.compile(optimizer,loss,metrics=['accuracy'])\n",
    "model.build((None, IMG_SIZE, IMG_SIZE, 3))\n",
    "model.summary()"
   ]
  },
  {
   "cell_type": "code",
   "execution_count": 34,
   "metadata": {},
   "outputs": [
    {
     "name": "stdout",
     "output_type": "stream",
     "text": [
      "Train on 50000 samples, validate on 10000 samples\n",
      "Epoch 1/9\n",
      "50000/50000 [==============================] - 247s 5ms/sample - loss: 3.2389 - accuracy: 0.2565 - val_loss: 2.9130 - val_accuracy: 0.3193\n",
      "Epoch 2/9\n",
      "50000/50000 [==============================] - 254s 5ms/sample - loss: 3.2140 - accuracy: 0.2625 - val_loss: 2.8801 - val_accuracy: 0.3304\n",
      "Epoch 3/9\n",
      "50000/50000 [==============================] - 262s 5ms/sample - loss: 3.1987 - accuracy: 0.2672 - val_loss: 2.9286 - val_accuracy: 0.3239\n",
      "Epoch 4/9\n",
      "50000/50000 [==============================] - 260s 5ms/sample - loss: 3.1888 - accuracy: 0.2724 - val_loss: 2.9096 - val_accuracy: 0.3270\n",
      "Epoch 5/9\n",
      "50000/50000 [==============================] - 274s 5ms/sample - loss: 3.1835 - accuracy: 0.2754 - val_loss: 2.8912 - val_accuracy: 0.3327\n",
      "Epoch 6/9\n",
      "50000/50000 [==============================] - 282s 6ms/sample - loss: 3.1801 - accuracy: 0.2750 - val_loss: 2.8381 - val_accuracy: 0.3498\n",
      "Epoch 7/9\n",
      "50000/50000 [==============================] - 277s 6ms/sample - loss: 3.1755 - accuracy: 0.2792 - val_loss: 2.8050 - val_accuracy: 0.3550\n",
      "Epoch 8/9\n",
      "50000/50000 [==============================] - 270s 5ms/sample - loss: 3.1727 - accuracy: 0.2814 - val_loss: 2.8019 - val_accuracy: 0.3530\n",
      "Epoch 9/9\n",
      "50000/50000 [==============================] - 280s 6ms/sample - loss: 3.1802 - accuracy: 0.2795 - val_loss: 2.9377 - val_accuracy: 0.3351\n"
     ]
    }
   ],
   "source": [
    "hist = model.fit(x_tr, y_tr, epochs= 9\n",
    "                 , validation_data= (x_te, y_te), callbacks=[cb1])"
   ]
  },
  {
   "cell_type": "code",
   "execution_count": 37,
   "metadata": {},
   "outputs": [
    {
     "data": {
      "text/plain": [
       "[<matplotlib.lines.Line2D at 0x7fd424268128>]"
      ]
     },
     "execution_count": 37,
     "metadata": {},
     "output_type": "execute_result"
    },
    {
     "data": {
      "image/png": "[encoded data removed]",
      "text/plain": [
       "<Figure size 432x288 with 1 Axes>"
      ]
     },
     "metadata": {
      "needs_background": "light"
     },
     "output_type": "display_data"
    }
   ],
   "source": [
    "plt.plot(moving_average(cb1.record['loss'],n=40))\n",
    "plt.plot(moving_average(cb1.record['loss'],n=300))"
   ]
  },
  {
   "cell_type": "code",
   "execution_count": 38,
   "metadata": {},
   "outputs": [
    {
     "data": {
      "image/png": "[encoded data removed]",
      "text/plain": [
       "<Figure size 432x288 with 2 Axes>"
      ]
     },
     "metadata": {
      "needs_background": "light"
     },
     "output_type": "display_data"
    }
   ],
   "source": [
    "plot_history(hist)"
   ]
  }
 ],
 "metadata": {
  "kernelspec": {
   "display_name": "venv",
   "language": "python",
   "name": "venv"
  },
  "language_info": {
   "codemirror_mode": {
    "name": "ipython",
    "version": 3
   },
   "file_extension": ".py",
   "mimetype": "text/x-python",
   "name": "python",
   "nbconvert_exporter": "python",
   "pygments_lexer": "ipython3",
   "version": "3.6.9"
  }
 },
 "nbformat": 4,
 "nbformat_minor": 4
}
